{
 "cells": [
  {
   "cell_type": "markdown",
   "metadata": {},
   "source": [
    "# Importing and file opening"
   ]
  },
  {
   "cell_type": "code",
   "execution_count": 1,
   "metadata": {},
   "outputs": [
    {
     "name": "stdout",
     "output_type": "stream",
     "text": [
      "<TTree 'Events' (1628 branches) at 0x7ff1b66ce320>\n"
     ]
    }
   ],
   "source": [
    "import pyarrow.parquet as pq\n",
    "import numpy as np\n",
    "import matplotlib.pyplot as plt\n",
    "import awkward as ak\n",
    "import uproot\n",
    "import hist\n",
    "import mplhep\n",
    "import vector\n",
    "vector.register_awkward()\n",
    "\n",
    "fname = \"/nfs/dust/cms/user/matsch/for_Artak/0520A050-AF68-EF43-AA5B-5AA77C74ED73.root\"\n",
    "\n",
    "fname_HH = \"/nfs/dust/cms/user/frahmmat/tutorial_files/HHtobbVV_4B83EAAD-1DEF-1641-BF6E-E9D72832F33A.root\"\n",
    "fname_tt = \"/nfs/dust/cms/user/frahmmat/tutorial_files/tt_sl_0520A050-AF68-EF43-AA5B-5AA77C74ED73.root\"\n",
    "\n",
    "# when opening a file using uproot different types of data are written in a dictionary\n",
    "file = uproot.open(fname)\n",
    "\n",
    "# particular data categories can be accessed using the known \"key\" \"value\" method using sqare brackets\n",
    "tree = file[\"Events\"]\n",
    "print(tree)\n",
    "# print(tree.keys())  # 1628 keys"
   ]
  },
  {
   "cell_type": "markdown",
   "metadata": {},
   "source": [
    "# Directly accessing fields via filter"
   ]
  },
  {
   "cell_type": "code",
   "execution_count": 2,
   "metadata": {},
   "outputs": [],
   "source": [
    "tree = file[\"Events\"]\n",
    "\n",
    "fields = [\"pt\", \"eta\", \"phi\", \"mass\", \"charge\", \"btagDeepB\"]\n",
    "\n",
    "# with arrays branches are selected by name\n",
    "# here different branches are selected for various particles/jets\n",
    "# the first 100_000 entries are to be used\n",
    "electrons = tree.arrays(filter_name=[\"Electron_\" + f for f in fields], entry_stop=100_000)\n",
    "muons = tree.arrays(filter_name=[\"Muon_\" + f for f in fields], entry_stop=100_000)\n",
    "jets = tree.arrays(filter_name=[\"Jet_\" + f for f in fields], entry_stop=100_000)\n",
    "\n",
    "# print(electrons[48])"
   ]
  },
  {
   "cell_type": "code",
   "execution_count": 3,
   "metadata": {},
   "outputs": [
    {
     "name": "stdout",
     "output_type": "stream",
     "text": [
      "Electron fields:  ['eta', 'mass', 'phi', 'pt', 'charge']\n",
      "Muon fields:      ['eta', 'mass', 'phi', 'pt', 'charge']\n",
      "Jet fields:       ['btagDeepB', 'eta', 'mass', 'phi', 'pt']\n",
      "\n",
      "Electron pt for events 104-108:  [[32.9, 25.9, 5.25], [150, 69], [35.8, 12.9], [13.6]]\n",
      "Muon pt for events 104-108:      [[3.72], [8.69], [4.65], [54.5]]\n",
      "Jet pt for events 104-108:       [[76.3, 64.9, 48.9, 41.4, 27, 18.5, 17.6], ... 37.8, 17.3], [63.2, 54.2, 36.7, 16.1]]\n"
     ]
    }
   ],
   "source": [
    "# switch naming of fields from \"{Object}_{field}\" to \"{field}\"\n",
    "\n",
    "# the replace is used to rename the data subcategories regarding the electrons, muons and jets\n",
    "# the goal is to combine all \"particle arrays\" to a a single \"events array\"\n",
    "# wher in the subcategories the attributes are no more referenced as particle_attribute but simply as the attributes\n",
    "electrons = ak.zip({key.replace(\"Electron_\",\"\"):electrons[key] for key in electrons.fields}, with_name=\"Momentum4D\")\n",
    "muons = ak.zip({key.replace(\"Muon_\",\"\"):muons[key] for key in muons.fields}, with_name=\"Momentum4D\")\n",
    "jets = ak.zip({key.replace(\"Jet_\",\"\"):jets[key] for key in jets.fields}, with_name=\"Momentum4D\")\n",
    "\n",
    "# combine fields into a single awkward \"events array\" via ak.zip\n",
    "events = ak.zip({\"Electron\": electrons, \"Muon\": muons, \"Jet\": jets}, depth_limit=1)\n",
    "\n",
    "# save output as parquet file\n",
    "f_out_name = \"tt_sl_test.parquet\"\n",
    "ak.to_parquet(events, f_out_name)\n",
    "\n",
    "# the different subcategories can still be accessed by using the particle type and physical quantities as attributes\n",
    "# Depending on the number of particles of a certain type measured in a single event\n",
    "# the lists corresponding to the arrays contain multiple numbers\n",
    "\n",
    "print(\"Electron fields: \", events.Electron.fields)\n",
    "print(\"Muon fields:     \", events.Muon.fields)\n",
    "print(\"Jet fields:      \", events.Jet.fields)\n",
    "\n",
    "print(\"\")\n",
    "\n",
    "print(\"Electron pt for events 104-108: \", events.Electron.pt[104:108])\n",
    "print(\"Muon pt for events 104-108:     \", events.Muon.pt[104:108])\n",
    "print(\"Jet pt for events 104-108:      \", events.Jet.pt[104:108])"
   ]
  },
  {
   "cell_type": "markdown",
   "metadata": {},
   "source": [
    "# Opening parquet with awkward"
   ]
  },
  {
   "cell_type": "code",
   "execution_count": 4,
   "metadata": {},
   "outputs": [
    {
     "name": "stdout",
     "output_type": "stream",
     "text": [
      "['Electron', 'Muon', 'Jet']\n",
      "<class 'awkward.highlevel.Array'>\n",
      "['Electron', 'Muon', 'Jet']\n",
      "<class 'vector._backends.awkward_.MomentumArray4D'>\n"
     ]
    }
   ],
   "source": [
    "events_new = ak.from_parquet(\"tt_sl_test.parquet\")\n",
    "\n",
    "print(events_new.fields)\n",
    "\n",
    "# is Electron here the keyword from above i.e. is the attribute always given by the keyword?\n",
    "print(type(events_new.Electron))\n",
    "# enable 4-vector behavior (pt,eta,phi,mass)\n",
    "behaviors = {\n",
    "    \"Jet\": \"Momentum4D\",\n",
    "    \"Electron\": \"Momentum4D\",\n",
    "    \"Muon\": \"Momentum4D\",\n",
    "}\n",
    "\n",
    "# attributes are being renamed such that the objects can be seen as 4 vectors with characteristic 4 vector calculations\n",
    "for f in events_new.fields:\n",
    "    if f in behaviors:\n",
    "        events_new[f] = ak.with_name(events_new[f], behaviors[f])\n",
    "    \n",
    "print(events_new.fields)\n",
    "print(type(events_new.Electron))"
   ]
  },
  {
   "cell_type": "code",
   "execution_count": 5,
   "metadata": {},
   "outputs": [
    {
     "name": "stdout",
     "output_type": "stream",
     "text": [
      "Number of jets:          [6, 7, 7, 9, 7, 8, 6, 5, 6, 8, 6, 10, 9, ... 6, 11, 7, 7, 8, 11, 8, 5, 9, 16, 11, 8]\n",
      "Jet mass:                [[11.3, 9.84, 7.24, 4.14, 4.92, 3.79], ... 8.74, 5.56, 5.16, 6.71, 4.8, 6.57, 4.31]]\n",
      "\n",
      "Mass of first two jets:  [86.9, 303, 203, 542, 108, 246, 105, 309, ... 271, 149, 184, 412, 59.7, 327, 147]\n",
      "Jet pt:                  [[101, 62.8, 47.9, 22.3, 19.2, 15.5], ... 42.2, 40.2, 35.8, 33.5, 27, 21.2, 15.1]]\n",
      "pt of first two jets:    [157, 56.7, 146, 84.8, 108, 83.2, 35.4, ... 78.4, 76, 37.1, 67.9, 194, 23.3, 38.2]\n",
      "Jet energy:              [[118, 66.1, 49.1, 274, 49.1, 30.9], ... 43.2, 79.3, 48.1, 35.8, 182, 156, 105]]\n",
      "Jet energy (custom):     [[118, 66.1, 49.1, 274, 49.1, 30.9], ... 43.2, 79.3, 48.1, 35.8, 182, 156, 105]]\n"
     ]
    }
   ],
   "source": [
    "# playing around with fields, testing vector behaviour\n",
    "jets = events_new.Jet\n",
    "\n",
    "print(\"Number of jets:         \", ak.num(jets))\n",
    "print(\"Jet mass:               \", jets.mass)\n",
    "\n",
    "print(\"\")\n",
    "# select events with more jets than one\n",
    "jets = jets[ak.num(jets)>1]\n",
    "print(\"Mass of first two jets: \", (jets[:,0]+jets[:,1]).mass)\n",
    "print(\"Jet pt:                 \", jets.pt)\n",
    "print(\"pt of first two jets:   \", (jets[:,0]+jets[:,1]).pt)\n",
    "print(\"Jet energy:             \", jets.E)\n",
    "print(\"Jet energy (custom):    \", np.sqrt(jets.pt**2 + jets.pz**2 + jets.mass**2))\n"
   ]
  },
  {
   "cell_type": "markdown",
   "metadata": {},
   "source": [
    "# Masking events"
   ]
  },
  {
   "cell_type": "code",
   "execution_count": 6,
   "metadata": {},
   "outputs": [
    {
     "name": "stdout",
     "output_type": "stream",
     "text": [
      "[3 5]\n"
     ]
    }
   ],
   "source": [
    "# dummy mask\n",
    "\n",
    "a = np.array([1, 2, 3, 4, 5])\n",
    "\n",
    "mask = (a > 2) & (a != 4)\n",
    "\n",
    "# use mask on array\n",
    "print(a[mask])"
   ]
  },
  {
   "cell_type": "code",
   "execution_count": 7,
   "metadata": {},
   "outputs": [
    {
     "name": "stdout",
     "output_type": "stream",
     "text": [
      "Electron events w/o masking:            [[32.9, 25.9, 5.25], [150, 69], [35.8, 12.9], [13.6]]\n",
      "Electron events w/ pt masking:          [[32.9, 25.9], [150, 69], [35.8], []]\n",
      "Electron events w/ pt and num masking:  [[], [150, 69], [35.8], []]\n"
     ]
    }
   ],
   "source": [
    "# define a pt mask for electrons\n",
    "\n",
    "electrons = events_new.Electron\n",
    "\n",
    "selection = electrons.pt[104:108]\n",
    "\n",
    "mask_e_pt = (selection > 15)\n",
    "mask_e_pt_num = (ak.num(selection) < 3) & (selection > 15)\n",
    "\n",
    "print(\"Electron events w/o masking:           \", selection)\n",
    "print(\"Electron events w/ pt masking:         \", selection[mask_e_pt])\n",
    "print(\"Electron events w/ pt and num masking: \", selection[mask_e_pt_num])"
   ]
  },
  {
   "cell_type": "code",
   "execution_count": 8,
   "metadata": {},
   "outputs": [
    {
     "name": "stdout",
     "output_type": "stream",
     "text": [
      "96975\n",
      "1\n"
     ]
    }
   ],
   "source": [
    "muons = events_new.Muon\n",
    "\n",
    "muons.fields\n",
    "\n",
    "print(np.sum(ak.num(muons)))\n",
    "\n",
    "mask_m = (ak.num(muons) == 2) & (np.abs(muons.eta) < 0.0001)\n",
    "\n",
    "print(np.sum(ak.num(muons[mask_m])))"
   ]
  },
  {
   "cell_type": "code",
   "execution_count": 9,
   "metadata": {},
   "outputs": [],
   "source": [
    "# jet pt > 30 GeV\n",
    "# jet |eta| < 2.4\n",
    "# lepton id"
   ]
  },
  {
   "cell_type": "markdown",
   "metadata": {},
   "source": [
    "# Number of events vs number of jets"
   ]
  },
  {
   "cell_type": "markdown",
   "metadata": {},
   "source": [
    "We shall now conduct an \"analysis\" on jets. Specifically, we want to examine the distribution of events in dependance of the number of jets satisfying particular requirements. Namely $p_T > 30 \\,\\, \\text{GeV}$ and $|\\eta| < 2.4$.\n",
    "\n",
    "For this we need to make various cuts on our data. The cuts are performed in a particular order: object cuts first, event cuts second."
   ]
  },
  {
   "cell_type": "code",
   "execution_count": 85,
   "metadata": {},
   "outputs": [],
   "source": [
    "# jet data\n",
    "jets = events_new.Jet"
   ]
  },
  {
   "cell_type": "code",
   "execution_count": 91,
   "metadata": {},
   "outputs": [],
   "source": [
    "# create a mask that cuts objects\n",
    "def object_mask(obj, eta, pt):\n",
    "    \n",
    "    return (np.abs(obj.eta) < eta) & (obj.pt > pt)\n",
    "\n",
    "# create mask that cuts events by requiring a certain number of objects\n",
    "def event_mask(event, n):\n",
    "     \n",
    "    return (ak.num(event) == n)\n",
    "\n",
    "\n",
    "# masking function\n",
    "def mask_events(event_data, obj_type, cut_eta, cut_pt, cut_n):\n",
    "    \n",
    "    \"\"\"\n",
    "    mask_events performs cuts on eta, pt and the \n",
    "    number of one specified object type on the full event data.\n",
    "    \n",
    "    event_data (awkward array): full event data\n",
    "    obj_type (string): 'Electron', 'Muon', 'Jet'\n",
    "    cut_eta (float): cut at specified eta\n",
    "    cut_pt (float): cut at specified pt\n",
    "    cut_n (int): cut events with specified number of objects\n",
    "    \"\"\"\n",
    "    \n",
    "    # mask for object based cuts on the full event data\n",
    "    mask_obj = object_mask(event_data[obj_type], cut_eta, cut_pt)\n",
    "    \n",
    "    # apply object based cuts on full event data\n",
    "    event_data[obj_type] = event_data[obj_type][mask_obj]\n",
    "    events_masked_obj = event_data\n",
    "            \n",
    "    # event based cut\n",
    "    mask_n = event_mask(event_data[obj_type], cut_n)\n",
    "\n",
    "    # apply event based cut on object-masked data\n",
    "    events_masked_final = events_masked_obj[mask_n]\n",
    "\n",
    "    # number of events after performing cuts\n",
    "    events_n_final = ak.num(events_masked_final)\n",
    "\n",
    "    return events_masked_final, events_n_final, len(events_n_final)\n",
    "    "
   ]
  },
  {
   "cell_type": "code",
   "execution_count": 93,
   "metadata": {},
   "outputs": [
    {
     "name": "stdout",
     "output_type": "stream",
     "text": [
      "[{Electron: [{eta: 1.14, mass: 0.00644, phi: -0.00438, ... phi: 0.828, pt: 48.7}]}]\n",
      "[{Electron: 1, Muon: 0, Jet: 2}, {Electron: 0, ... {Electron: 2, Muon: 0, Jet: 2}]\n",
      "9626\n"
     ]
    }
   ],
   "source": [
    "result = mask_events(events, 'Jet', 2.4, 30, 2)\n",
    "\n",
    "for i in range(len(result)):\n",
    "    print(result[i])"
   ]
  },
  {
   "cell_type": "markdown",
   "metadata": {},
   "source": [
    "# BACKUP CELLS"
   ]
  },
  {
   "cell_type": "code",
   "execution_count": 12,
   "metadata": {},
   "outputs": [
    {
     "name": "stdout",
     "output_type": "stream",
     "text": [
      "[2372, 9626, 22707, 29727, 21077, 9437]\n"
     ]
    }
   ],
   "source": [
    "#### for loop for various jet number counts\n",
    "\n",
    "# object cuts first\n",
    "# jet |eta| < 2.4 & jet pt > 30 GeV\n",
    "jets_masked_obj = mask_pt(mask_eta(jets, 2.4), 30)\n",
    "\n",
    "jets_masked_ev = [None for i in range(1, 7)]\n",
    "\n",
    "for i in range(1, 7):\n",
    "    jets_masked_ev[i-1] = mask_num(jets_masked_obj, i)\n",
    "\n",
    "jets_num_events = [None for i in range(1, 7)]    \n",
    "    \n",
    "# get the number of events from final mask\n",
    "for i, jet in enumerate(jets_masked_ev):    \n",
    "    jets_num_events[i] = len(ak.num(jet))\n",
    "    \n",
    "print(jets_num_events)"
   ]
  },
  {
   "cell_type": "code",
   "execution_count": 13,
   "metadata": {},
   "outputs": [
    {
     "data": {
      "image/png": "[encoded data removed]",
      "text/plain": [
       "<Figure size 1000x700 with 1 Axes>"
      ]
     },
     "metadata": {},
     "output_type": "display_data"
    }
   ],
   "source": [
    "plt.figure(figsize = (10, 7), facecolor = 'white', dpi = 100)\n",
    "plt.ticklabel_format(axis = 'y', style = 'sci', scilimits = (3, 3))\n",
    "\n",
    "plt.bar(range(1, 7), jets_num_events, width = 1)\n",
    "\n",
    "plt.title(\"Events for given number of jets\", fontsize = 17)\n",
    "plt.xlabel(\"Number of jets\", fontsize = 15)\n",
    "plt.ylabel(\"Number of events\", fontsize = 15)\n",
    "\n",
    "plt.xlim(0.5, 6.5)\n",
    "plt.xticks(fontsize = 13)\n",
    "plt.yticks(fontsize = 13)\n",
    "\n",
    "plt.show()"
   ]
  },
  {
   "cell_type": "code",
   "execution_count": 86,
   "metadata": {},
   "outputs": [
    {
     "name": "stdout",
     "output_type": "stream",
     "text": [
      "[6, 7, 7, 9, 7, 8, 6, 5, 6, 8, 6, 10, 9, ... 6, 11, 7, 7, 8, 11, 8, 5, 9, 16, 11, 8]\n",
      "[3, 4, 3, 6, 2, 4, 2, 4, 3, 3, 5, 6, 4, 5, ... 6, 2, 4, 5, 4, 5, 3, 4, 2, 6, 5, 5, 5]\n",
      "[1, 1, 1, 1, 1, 1, 1, 1, 1, 1, 1, 1, 1, 1, ... 1, 1, 1, 1, 1, 1, 1, 1, 1, 1, 1, 1, 1]\n",
      "2372\n",
      "2372\n"
     ]
    }
   ],
   "source": [
    "# masks\n",
    "\n",
    "# mask for cut on eta\n",
    "def mask_eta(data, cut):\n",
    "    \n",
    "    mask = (np.abs(data.eta) < cut)\n",
    "    \n",
    "    return data[mask]\n",
    "\n",
    "# mask for cut on pt\n",
    "def mask_pt(data, cut):\n",
    "    \n",
    "    mask = (data.pt > cut)\n",
    "    \n",
    "    return data[mask]\n",
    "\n",
    "# cut on number of events\n",
    "def mask_num(data, cut):\n",
    "    \n",
    "    mask = (ak.num(data) == cut)\n",
    "    \n",
    "    return data[mask]\n",
    "\n",
    "\n",
    "number_of_jets = ak.num(jets_2)\n",
    "print(number_of_jets)\n",
    "\n",
    "jets_masked_obj = mask_pt(mask_eta(jets_2, 2.4), 30)\n",
    "number_of_jets_masked = ak.num(jets_masked_obj)\n",
    "print(number_of_jets_masked)\n",
    "\n",
    "jets_masked_num = mask_num(jets_masked_obj, 1)\n",
    "number_of_jets_masked_2 = ak.num(jets_masked_num)\n",
    "print(number_of_jets_masked_2)\n",
    "print(len(number_of_jets_masked_2))\n",
    "\n",
    "\n",
    "\n",
    "counter = 0\n",
    "\n",
    "for i in number_of_jets_masked:\n",
    "    \n",
    "    if i == 1:\n",
    "        \n",
    "        counter += 1\n",
    "        \n",
    "print(counter)"
   ]
  },
  {
   "cell_type": "code",
   "execution_count": 87,
   "metadata": {},
   "outputs": [],
   "source": [
    "# masking function\n",
    "def mask_events(event_data, obj_type, cut_eta, cut_pt, cut_n = None, hist_bins = (0, 0)):\n",
    "    \n",
    "    \"\"\"\n",
    "    mask_events performs cuts on eta, pt and the \n",
    "    number of the specified objects on the full event data.\n",
    "    \n",
    "    event_data (awkward array): full event data\n",
    "    obj_type (string): 'Electron', 'Muon', 'Jet'\n",
    "    cut_eta (float): cut at specified eta\n",
    "    cut_pt (float): cut at specified pt\n",
    "    cut_n (int): cut events with specified number of objects\n",
    "    hist_bins ((int, int)): \n",
    "    \n",
    "    Either specify cut_num or hist_bins, don't \n",
    "    specify both and don't specify neither!\n",
    "    \"\"\"\n",
    "    \n",
    "    # mask for object based cuts on the full event data\n",
    "    mask_obj = (np.abs(event_data[obj_type].eta) < cut_eta) & (event_data[obj_type].pt > cut_pt)\n",
    "    \n",
    "    # apply object based cuts on full event data\n",
    "    event_data[obj_type] = event_data[obj_type][mask_obj]\n",
    "    events_masked_obj = event_data\n",
    "    \n",
    "    if cut_n != None:\n",
    "        \n",
    "        # event based cut\n",
    "        mask_n = (ak.num(event_data[obj_type]) == cut_n)\n",
    "        \n",
    "        # apply event based cut on object-masked data\n",
    "        events_masked_final = events_masked_obj[mask_n]\n",
    "        \n",
    "        # number of events after performing cuts\n",
    "        events_n_final = ak.num(events_masked_final)\n",
    "        \n",
    "        return events_masked_final, events_n_final, len(events_n_final)\n",
    "    \n",
    "    else:\n",
    "        \n",
    "        # bins to be used in the histogram\n",
    "        bins = range(hist_bins[0], hist_bins[1] + 1)\n",
    "        \n",
    "        # storage list for the number of events\n",
    "        events_n_bins = [None for _ in bins]\n",
    "        \n",
    "        for i, b in enumerate(bins):\n",
    "            \n",
    "            # event based cut per bin\n",
    "            mask_n_b = (ak.num(event_data[obj_type]) == b)\n",
    "            \n",
    "            # apply event based cut on object-masked data per bin\n",
    "            events_masked_final_b = events_masked_obj[mask_n_b]\n",
    "\n",
    "            # number of events after performing cuts\n",
    "            events_n_bins[i] = len(ak.num(events_masked_final_b))\n",
    "            \n",
    "        return events_n_bins\n",
    "    "
   ]
  }
 ],
 "metadata": {
  "kernelspec": {
   "display_name": "cms-analysis",
   "language": "python",
   "name": "cms-analysis"
  },
  "language_info": {
   "codemirror_mode": {
    "name": "ipython",
    "version": 3
   },
   "file_extension": ".py",
   "mimetype": "text/x-python",
   "name": "python",
   "nbconvert_exporter": "python",
   "pygments_lexer": "ipython3",
   "version": "3.10.4"
  }
 },
 "nbformat": 4,
 "nbformat_minor": 5
}
