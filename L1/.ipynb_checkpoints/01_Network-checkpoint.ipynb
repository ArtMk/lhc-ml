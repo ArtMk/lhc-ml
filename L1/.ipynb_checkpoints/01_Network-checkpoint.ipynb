{
 "cells": [
  {
   "cell_type": "code",
   "execution_count": 1,
   "metadata": {},
   "outputs": [],
   "source": [
    "import numpy as np\n",
    "import matplotlib.pyplot as plt"
   ]
  },
  {
   "cell_type": "code",
   "execution_count": 2,
   "metadata": {},
   "outputs": [],
   "source": [
    "# two starting numbers and only one output number\n",
    "\n",
    "# dimensions of input, hidden and output layers\n",
    "N0 = 2\n",
    "N1 = 30\n",
    "N2 = 1"
   ]
  },
  {
   "cell_type": "code",
   "execution_count": 3,
   "metadata": {},
   "outputs": [],
   "source": [
    "# activation function\n",
    "\n",
    "# smooth function return values between 0 and 1\n",
    "def sigmoid(x):\n",
    "    \n",
    "    s = 1 / (1 + np.exp(-x))           # nonlinear function for forward propagation\n",
    "    ds = np.exp(-x) / (1 + np.exp(-x)) # derivative for brackward propagation\n",
    "    \n",
    "    return s, ds\n",
    "\n",
    "\n",
    "# nonsmooth function return values 0 or 1\n",
    "def theta(x):\n",
    "    \n",
    "    if x < 0:\n",
    "        return 1\n",
    "    else:\n",
    "        return 0"
   ]
  },
  {
   "cell_type": "code",
   "execution_count": 4,
   "metadata": {},
   "outputs": [],
   "source": [
    "# output function\n",
    "\n",
    "# dictionary containing activation functions\n",
    "activation_dict = {\"theta\": theta, \"sigmoid\": sigmoid}\n",
    "\n",
    "# operations performed at each layer\n",
    "def layer(act, v, w, b):\n",
    "    \n",
    "    z = np.dot(v, w) + b           # linear superposition of all neurons from the previous layer\n",
    "    return activation_dict[act](z) # application of nonlinear function and calculation of the derivative\n",
    "\n",
    "\n",
    "def backstep():\n",
    "    \n",
    "    print(\"DONE\")"
   ]
  },
  {
   "cell_type": "code",
   "execution_count": 5,
   "metadata": {},
   "outputs": [],
   "source": [
    "# making a network with n hidden layers\n",
    "\n",
    "layer_count = 20\n",
    "\n",
    "# weights and biases used for transition from input layer to first hidden layer\n",
    "weights_in = np.random.uniform(low = -10, high = +10, size = (N2, N0))\n",
    "bias_in = np.random.uniform(low = -1, high = +1, size = N2)\n",
    "\n",
    "# weights and biases used for transition from hidden layer to hidden layer\n",
    "weights_hidden = np.random.uniform(low = -10, high = +10, size = (layer_count, N0, N0))\n",
    "bias_hidden = np.random.uniform(low = -1, high = +1, size = (layer_count, N0))\n",
    "\n",
    "# weights and biases used for transition from last hidden layer to output layer\n",
    "weights_out = np.random.uniform(low = -10, high = +10, size = (N2, N0))\n",
    "bias_out = np.random.uniform(low = -1, high = +1, size = N2)\n",
    "\n",
    "def network(y_in, activation, n):\n",
    "    \n",
    "    y_vals = y_in\n",
    "    \n",
    "    for i in range(n):\n",
    "        y_vals = layer(activation, y_vals, weights_hidden[i], bias_hidden[i])\n",
    "                                \n",
    "    return layer(activation, y_vals, weights_out, bias_out)"
   ]
  },
  {
   "cell_type": "code",
   "execution_count": 106,
   "metadata": {},
   "outputs": [
    {
     "name": "stdout",
     "output_type": "stream",
     "text": [
      "Layer structure of the network:  [2, 30, 30, 30, 30, 30, 30, 30, 30, 30, 30, 1]\n"
     ]
    }
   ],
   "source": [
    "# making a network with n hidden layers\n",
    "\n",
    "# number of hidden layers, minimum number of hidden layers to be used: 1\n",
    "layer_count = 10\n",
    "\n",
    "# size of all the layers in a list\n",
    "layers = [N0]\n",
    "\n",
    "for l in range(layer_count):\n",
    "    layers.append(N1)\n",
    "    \n",
    "layers.append(N2)\n",
    "\n",
    "print(\"Layer structure of the network: \", layers)\n",
    "\n",
    "# weights and biases used for transition from input layer to first hidden layer\n",
    "weights_in = np.random.uniform(low = -10, high = +10, size = (N0, N1))\n",
    "bias_in = np.random.uniform(low = -1, high = +1, size = N1)\n",
    "\n",
    "# weights and biases used for transition from hidden layer to hidden layer\n",
    "weights_hidden = np.random.uniform(low = -10, high = +10, size = (layer_count, N1, N1))\n",
    "bias_hidden = np.random.uniform(low = -1, high = +1, size = (layer_count, N1))\n",
    "\n",
    "# weights and biases used for transition from last hidden layer to output layer\n",
    "weights_out = np.random.uniform(low = -10, high = +10, size = (N1, N2))\n",
    "bias_out = np.random.uniform(low = -1, high = +1, size = N2)\n",
    "\n",
    "# propagation through a network with at least one hidden layer\n",
    "def network_multi(y_in, activation, n):\n",
    "    \n",
    "    # print(np.shape(y_in))\n",
    "    \n",
    "    # storage arrays\n",
    "    layer_vals = [np.empty((M**2, layers[j])) for j in range(len(layers))]       # layer values (backward propagation)\n",
    "    layer_vals_df = [np.empty((M**2, layers[j])) for j in range(1, len(layers))] # layer derivatives (backward propagation)    \n",
    "    \n",
    "    y_vals = y_in\n",
    "    layer_vals[0] = y_vals\n",
    "    \n",
    "    y_vals, y_df = layer(activation, y_vals, weights_in, bias_in)\n",
    "    layer_vals[1] = y_vals\n",
    "    layer_vals_df[0] = y_df\n",
    "    \n",
    "    for i in range(n):\n",
    "        y_vals, y_df = layer(activation, y_vals, weights_hidden[i], bias_hidden[i])\n",
    "        layer_vals[i+2] = y_vals\n",
    "        layer_vals_df[i+1] = y_df\n",
    "                                    \n",
    "    y_vals, y_df = layer(activation, y_vals, weights_out, bias_out)\n",
    "    layer_vals[-1] = y_vals\n",
    "    layer_vals_df[-1] = y_df\n",
    "    \n",
    "    return layer_vals, layer_vals_df"
   ]
  },
  {
   "cell_type": "code",
   "execution_count": 107,
   "metadata": {
    "scrolled": false
   },
   "outputs": [],
   "source": [
    "# visualize\n",
    "\n",
    "M = 500\n",
    "\n",
    "y1, y2 = np.meshgrid(np.linspace(-0.5, 0.5, M), np.linspace(-0.5, 0.5, M))\n",
    "\n",
    "y1_flat = y1.flatten()\n",
    "y2_flat = y2.flatten()\n",
    "\n",
    "y_in = np.empty((len(y1_flat), 2))\n",
    "y_in[:,0] = y1_flat\n",
    "y_in[:,1] = y2_flat\n",
    "\n",
    "# print(np.shape(y_in))\n",
    "\n",
    "plotmatrix = network_multi(y_in, \"sigmoid\", layer_count)[0][-1]\n",
    "\n",
    "plotmatrix = np.reshape(plotmatrix[:, 0], (M, M))"
   ]
  },
  {
   "cell_type": "code",
   "execution_count": 108,
   "metadata": {
    "scrolled": false
   },
   "outputs": [
    {
     "data": {
      "image/png": "[encoded data removed]",
      "text/plain": [
       "<Figure size 1080x720 with 2 Axes>"
      ]
     },
     "metadata": {},
     "output_type": "display_data"
    }
   ],
   "source": [
    "# plot\n",
    "\n",
    "plt.figure(figsize = (15, 10), facecolor = \"white\")\n",
    "\n",
    "plt.imshow(plotmatrix, origin = \"lower\")\n",
    "plt.colorbar()\n",
    "\n",
    "#, extent=(-0.5,0.5,-0.5,0.5)\n",
    "\n",
    "plt.xticks([], [])\n",
    "plt.yticks([], [])\n",
    "\n",
    "# plt.hlines(50, 0, 99)\n",
    "# plt.vlines(50, 0, 99)\n",
    "\n",
    "# plt.xlim(0, 99)\n",
    "# plt.ylim(0, 99)\n",
    "\n",
    "plt.show()"
   ]
  },
  {
   "cell_type": "code",
   "execution_count": 101,
   "metadata": {},
   "outputs": [],
   "source": [
    "# this is the main backpropagation\n",
    "\n",
    "def backward_step(delta, w, df):\n",
    "    \n",
    "    return np.dot(delta, transpose(w)) * df"
   ]
  },
  {
   "cell_type": "code",
   "execution_count": null,
   "metadata": {},
   "outputs": [],
   "source": [
    "# backpropagation algorithm\n",
    "\n",
    "def backpropagation(y_nn, y_nn_df, y_target):\n",
    "    \n",
    "    dw = [np.empty((layers[j], layers[j+1])) for j in range(len(layers)-1)]\n",
    "    db = [np.empty((layers[j+1])) for j in range(len(layers)-1)]\n",
    "    \n",
    "    delta_y = (y_nn[-1] - y_target) * y_nn_df[-1]\n",
    "    \n",
    "    dw[-1] = np.dot(np.transpose(y_nn[-2]), delta_y) / M\n",
    "    db[-1] = delta_y.sum(0) / M\n",
    "    \n",
    "    for i in range(len(layers)):\n",
    "        \n",
    "        delta_y = backward_step(delta_y, Weights[-1-j],df_layer[-2-j])\n",
    "        dw_layer[-2-j]=dot(transpose(y_layer[-3-j]),delta)\n",
    "        db_layer[-2-j]=delta.sum(0)/batchsize\n",
    "    "
   ]
  }
 ],
 "metadata": {
  "kernelspec": {
   "display_name": "Python 3 (ipykernel)",
   "language": "python",
   "name": "python3"
  },
  "language_info": {
   "codemirror_mode": {
    "name": "ipython",
    "version": 3
   },
   "file_extension": ".py",
   "mimetype": "text/x-python",
   "name": "python",
   "nbconvert_exporter": "python",
   "pygments_lexer": "ipython3",
   "version": "3.9.12"
  }
 },
 "nbformat": 4,
 "nbformat_minor": 2
}
