{
 "cells": [
  {
   "cell_type": "code",
   "execution_count": 1,
   "metadata": {},
   "outputs": [],
   "source": [
    "import numpy as np\n",
    "import matplotlib.pyplot as plt"
   ]
  },
  {
   "cell_type": "code",
   "execution_count": 2,
   "metadata": {},
   "outputs": [],
   "source": [
    "# two starting numbers and only one output number\n",
    "\n",
    "# dimensions of input and output layers\n",
    "N0 = 2\n",
    "N1 = 1\n",
    "\n",
    "# input values\n",
    "values = np.random.uniform(low = -10, high = 10, size = N0)\n",
    "\n",
    "# weights\n",
    "weights = np.identity(N0)\n",
    "\n",
    "# bias\n",
    "bias = np.zeros(N0)"
   ]
  },
  {
   "cell_type": "code",
   "execution_count": 3,
   "metadata": {},
   "outputs": [],
   "source": [
    "# activation function\n",
    "\n",
    "def sigmoid(x):\n",
    "    \n",
    "    return 1 - (1 / (1 + np.exp(-x)))\n",
    "\n",
    "def theta(x):\n",
    "    \n",
    "    if x < 0:\n",
    "        return 1\n",
    "    else:\n",
    "        return 0"
   ]
  },
  {
   "cell_type": "code",
   "execution_count": 4,
   "metadata": {},
   "outputs": [],
   "source": [
    "# output function\n",
    "\n",
    "def network(act, v, w, b):\n",
    "    \n",
    "    # dictionary containing activation functions\n",
    "    activation_dict = {\"theta\": theta, \"sigmoid\": sigmoid}\n",
    "    \n",
    "    v_c = np.dot(w, v) + b\n",
    "    z = v_c[0] * v_c[1]\n",
    "    \n",
    "    return activation_dict[act](z)"
   ]
  },
  {
   "cell_type": "code",
   "execution_count": 5,
   "metadata": {},
   "outputs": [
    {
     "data": {
      "text/plain": [
       "0"
      ]
     },
     "execution_count": 5,
     "metadata": {},
     "output_type": "execute_result"
    }
   ],
   "source": [
    "# just trying out if this works\n",
    "\n",
    "network(\"theta\", values, weights, bias)"
   ]
  },
  {
   "cell_type": "code",
   "execution_count": 6,
   "metadata": {},
   "outputs": [
    {
     "data": {
      "image/png": "[encoded data removed]",
      "text/plain": [
       "<Figure size 720x504 with 2 Axes>"
      ]
     },
     "metadata": {},
     "output_type": "display_data"
    }
   ],
   "source": [
    "# visualize\n",
    "\n",
    "# visualize 100 points\n",
    "\n",
    "M = 100\n",
    "\n",
    "plotmatrix = np.empty((M, M))\n",
    "y1 = np.linspace(-5, 5, M)\n",
    "y2 = np.linspace(-5, 5, M)\n",
    "\n",
    "# print(len(y1))\n",
    "\n",
    "for count1, val1 in enumerate(y1):\n",
    "    \n",
    "    for count2, val2 in enumerate(y2):\n",
    "        \n",
    "        input_val = np.array([val1, val2])\n",
    "        \n",
    "        plotmatrix[count1][count2] = network(\"sigmoid\", input_val, weights, bias)\n",
    "\n",
    "\n",
    "plt.figure(figsize = (10, 7), facecolor = \"white\")\n",
    "\n",
    "plt.imshow(plotmatrix, origin = \"center\")\n",
    "plt.colorbar()\n",
    "\n",
    "plt.xticks([0, 25, 50, 75, 99], [-5, -2.5, 0, 2.5, 5])\n",
    "plt.yticks([0, 25, 50, 75, 99], [-5, -2.5, 0, 2.5, 5])\n",
    "\n",
    "plt.hlines(50, 0, 99)\n",
    "plt.vlines(50, 0, 99)\n",
    "\n",
    "plt.xlim(0, 99)\n",
    "plt.ylim(0, 99)\n",
    "\n",
    "plt.show()"
   ]
  },
  {
   "cell_type": "code",
   "execution_count": null,
   "metadata": {},
   "outputs": [],
   "source": []
  }
 ],
 "metadata": {
  "kernelspec": {
   "display_name": "Python 3",
   "language": "python",
   "name": "python3"
  },
  "language_info": {
   "codemirror_mode": {
    "name": "ipython",
    "version": 3
   },
   "file_extension": ".py",
   "mimetype": "text/x-python",
   "name": "python",
   "nbconvert_exporter": "python",
   "pygments_lexer": "ipython3",
   "version": "3.6.5"
  }
 },
 "nbformat": 4,
 "nbformat_minor": 2
}
