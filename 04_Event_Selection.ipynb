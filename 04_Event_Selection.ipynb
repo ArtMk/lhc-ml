{
 "cells": [
  {
   "cell_type": "markdown",
   "id": "c3577d93-65d1-4d11-a7c0-ae008a95c306",
   "metadata": {
    "tags": []
   },
   "source": [
    "# 4. Event Selection - Preparing Input Data for the Neural Network"
   ]
  },
  {
   "cell_type": "markdown",
   "id": "21711ee9-617f-4f9b-b6c9-e69846956a63",
   "metadata": {},
   "source": [
    "In the last notebook the exemplary neural network from notebooks 1. and 2. was implemented using Keras making our lives significantly easier by outsourcing the solutions of difficult code, like forward and backward propagation, to Keras functions, ultimately simplifying the code and letting us concentrate on the physics problem at hand.\n",
    "\n",
    "In this notebook we already want to dive deeper into the real physics at the LHC, CMS specifically, and preprocess the data for the neural network. This primarily entails the selection of the relevant events from the whole data by imposing cuts on physical quantities and event characteristics."
   ]
  },
  {
   "cell_type": "markdown",
   "id": "5d5b170c-df8b-44ee-9960-c3f11fade9fe",
   "metadata": {
    "tags": []
   },
   "source": [
    "## Di - Higgs"
   ]
  },
  {
   "cell_type": "markdown",
   "id": "87062a9e-dc19-43c5-a135-ae699eeca37f",
   "metadata": {
    "tags": []
   },
   "source": [
    "The goal of this notebook series is to make a neural network that is capable of identifying Di-Higgs events. Di-Higgs events are events where a Higgs boson splits into two Higgs bosons via the 3-point self interaction. From the Higgs theory it is evident that this process is very rare and incredibly difficult to come by and identify. The primary Higgs can be produced in various ways, the most prevalent one being gluon-gluon-fusion accounting for about 87% of the  production. The two Higgs in the final state then continue to decay in different ways. One of the easiest and most efficient ways to identify a Di-Higgs event is to look for a bb + l signiture, where the bb jets come from one Higgs and the lepton originates from the other. For the signiture only muons are looked at (in this notebook at least), since it is easier to identify muons than electrons.\n",
    "\n",
    "This process of course has it's fair share of background like the production of top quarks, production of W bosons associated with jets and many others due to various QCD interactions.\n",
    "\n",
    "In this notebook real experimental data will not be used, instead, Monte Carlo simulated data for the separate signal and background processes will be used."
   ]
  },
  {
   "cell_type": "markdown",
   "id": "b9c189a4",
   "metadata": {
    "tags": []
   },
   "source": [
    "## Data opening and preparation"
   ]
  },
  {
   "cell_type": "code",
   "execution_count": 1,
   "id": "6f855386",
   "metadata": {},
   "outputs": [],
   "source": [
    "import pyarrow.parquet as pq\n",
    "import numpy as np\n",
    "import matplotlib.pyplot as plt\n",
    "import awkward as ak\n",
    "import uproot\n",
    "import hist\n",
    "import mplhep\n",
    "import vector\n",
    "import os"
   ]
  },
  {
   "cell_type": "code",
   "execution_count": 2,
   "id": "544da204",
   "metadata": {},
   "outputs": [
    {
     "name": "stdout",
     "output_type": "stream",
     "text": [
      "['0B37487E-FC2E-D64C-89C1-F15ACD3F1904.root', '480ECDB4-0B6F-1442-B828-2D2F3A9DFD16.root', 'C0F742D7-C281-1E47-948C-40CDECBF977F.root']\n"
     ]
    }
   ],
   "source": [
    "# locate files\n",
    "files = os.listdir('/nfs/dust/cms/user/matsch/for_Artak/WJetsToLNu/')\n",
    "print(files)"
   ]
  },
  {
   "cell_type": "markdown",
   "id": "a18b9463-a651-491e-9ae9-b83b0f9f7971",
   "metadata": {},
   "source": [
    "Once the individual data files are located they are opened using *uproot*. Uproot is a python package that is capable of opening and manipulating *ROOT* format files. These are files structured in a similar way to UNIX file directories where objects can be stored in an arbitrary substructure in a machine independent fashion."
   ]
  },
  {
   "cell_type": "code",
   "execution_count": 3,
   "id": "3fa4b768",
   "metadata": {},
   "outputs": [
    {
     "name": "stdout",
     "output_type": "stream",
     "text": [
      "[<TTree 'Events' (1628 branches) at 0x2abcc22a0e20>, <TTree 'Events' (1628 branches) at 0x2abcc22a0d90>, <TTree 'Events' (1628 branches) at 0x2abcc22a0f70>, <TTree 'Events' (1628 branches) at 0x2abcc22a0d30>, <TTree 'Events' (1628 branches) at 0x2abcc22a0ee0>, <TTree 'Events' (1628 branches) at 0x2abe351ca020>]\n"
     ]
    }
   ],
   "source": [
    "# register awkward to be able to use 4-vector behaviour \n",
    "vector.register_awkward()\n",
    "\n",
    "# specify file paths\n",
    "p_signal = '/nfs/dust/cms/user/matsch/for_Artak/GluGluToHHTobbVV/C6092B8E-34AB-324C-97BC-2FE673889E32.root'\n",
    "p_bgr_tt = '/nfs/dust/cms/user/matsch/for_Artak/TTToSemiLeptonic/0520A050-AF68-EF43-AA5B-5AA77C74ED73.root'\n",
    "p_bgr_st = '/nfs/dust/cms/user/matsch/for_Artak/ST_tW_top_5f_inclusive/5FEDA4F4-5EAA-9346-A62B-7488AE90CB0C.root'\n",
    "p_bgr_Wj_1 = '/nfs/dust/cms/user/matsch/for_Artak/WJetsToLNu/C0F742D7-C281-1E47-948C-40CDECBF977F.root'\n",
    "p_bgr_Wj_2 = '/nfs/dust/cms/user/matsch/for_Artak/WJetsToLNu/0B37487E-FC2E-D64C-89C1-F15ACD3F1904.root'\n",
    "p_bgr_Wj_3 = '/nfs/dust/cms/user/matsch/for_Artak/WJetsToLNu/480ECDB4-0B6F-1442-B828-2D2F3A9DFD16.root'\n",
    "\n",
    "# open files using uproot\n",
    "# when opening a file, different types of data are written in a dictionary\n",
    "signal = uproot.open(p_signal)\n",
    "bgr_tt = uproot.open(p_bgr_tt)\n",
    "bgr_st = uproot.open(p_bgr_st)\n",
    "bgr_Wj_1 = uproot.open(p_bgr_Wj_1)\n",
    "bgr_Wj_2 = uproot.open(p_bgr_Wj_2)\n",
    "bgr_Wj_3 = uproot.open(p_bgr_Wj_3)\n",
    "\n",
    "# make a list of the files so it's easier to iterate over the files and compactify the code\n",
    "files_list = [signal, bgr_tt, bgr_st, bgr_Wj_1, bgr_Wj_2, bgr_Wj_3]\n",
    "\n",
    "# read out trees\n",
    "tree_list = [None for i in range(len(files_list))]\n",
    "\n",
    "# particular data categories can be accessed with \"key\" \"value\" method by using sqare brackets\n",
    "for count, file in enumerate(files_list):\n",
    "    tree_list[count] = file[\"Events\"]\n",
    "    \n",
    "print(tree_list)"
   ]
  },
  {
   "cell_type": "markdown",
   "id": "141de7d3",
   "metadata": {
    "tags": []
   },
   "source": [
    "## Directly accessing fields via filters"
   ]
  },
  {
   "cell_type": "markdown",
   "id": "caf4353c-7631-47ca-97c8-c9bd2d8d3e3b",
   "metadata": {},
   "source": [
    "Following the opening of the files, the necessary fields for the selection of events have to be specified and accessed via filters. This is done using a python package called *awkward*. It's great for nested variable-sized data and performs operations very quickly. The events from the different files are converted into awkward arrays all the while only the specified fields are selected. This is done such that muons and jets, the signature we are actively looking for, are stored separately in a list for all the files.\n",
    "\n",
    "The fields that are relevant to this little analysis are:\n",
    "* $p_T$ [GeV]\n",
    "* $\\eta$\n",
    "* $\\phi$ [rad]\n",
    "* mass [GeV]\n",
    "* charge\n",
    "\n",
    "For jets there's additionally a field called \"btagDeepB\" which can be understood as the probability of a certain jet to be identified as a b-jet."
   ]
  },
  {
   "cell_type": "code",
   "execution_count": 4,
   "id": "8c93cd7c",
   "metadata": {},
   "outputs": [],
   "source": [
    "# necessary fields to be extracted\n",
    "fields = [\"pt\", \"eta\", \"phi\", \"mass\", \"charge\", \"btagDeepB\"]\n",
    "\n",
    "# only muons and jets are selected since they make up the desired signiture\n",
    "muons_list = [None for i in range(len(tree_list))]\n",
    "jets_list = [None for i in range(len(tree_list))]\n",
    "\n",
    "# for each file the specified fields are selected for muons and jets only\n",
    "for count, tree in enumerate(tree_list):\n",
    "\n",
    "    muons_list[count] = tree.arrays(filter_name = [\"Muon_\" + f for f in fields])\n",
    "    jets_list[count] = tree.arrays(filter_name = [\"Jet_\" + f for f in fields])\n",
    "\n",
    "# concatenate all the same Wj events into a single list entry as if it originated from a single file\n",
    "muons_list[-3] = ak.concatenate([muons_list[-3], muons_list[-2], muons_list[-1]], axis = 0)\n",
    "del muons_list[-1]\n",
    "del muons_list[-2]\n",
    "\n",
    "jets_list[-3] = ak.concatenate([jets_list[-3], jets_list[-2], jets_list[-1]], axis = 0)\n",
    "del jets_list[-1]\n",
    "del jets_list[-2]"
   ]
  },
  {
   "cell_type": "markdown",
   "id": "6906956a-e495-4039-9867-b335703696a2",
   "metadata": {},
   "source": [
    "The goal is to combine all \"particle arrays\" to a single \"events array\" where in the subcategories the attributes are no more referenced as \"{Object}\\_{field}\" but simply as the \"{field}\" .This is done using the function `replace`. Additionally, the argument `with_name = 'Momentum4D'` is given, which identifies the elements of the arrays as physical 4-vectors which in turn allows them to be used in physically relevant operations like the calculation of the invariant mass of the objects. With `zip` the new fields are combined in a new array. And finally, the two object arrays, muons and jets are zipped to construct the event array. The different subcategories can still be accessed by using the particle type and physical quantities as attributes."
   ]
  },
  {
   "cell_type": "code",
   "execution_count": 5,
   "id": "5fdfa3c1",
   "metadata": {},
   "outputs": [
    {
     "name": "stdout",
     "output_type": "stream",
     "text": [
      "Event fields:       ['Muon', 'Jet']\n",
      "\n",
      "Muon fields:        ['eta', 'mass', 'phi', 'pt', 'charge']\n",
      "Muon object class:  <class 'vector._backends.awkward_.MomentumArray4D'>\n",
      "\n",
      "Jet fields:         ['btagDeepB', 'eta', 'mass', 'phi', 'pt']\n",
      "Jet object class:   <class 'vector._backends.awkward_.MomentumArray4D'>\n"
     ]
    }
   ],
   "source": [
    "# switch naming of fields from \"{Object}_{field}\" to \"{field}\"\n",
    "events_list = [None for i in range(len(muons_list))]\n",
    "\n",
    "for i in range(len(muons_list)):\n",
    "    \n",
    "    muons_list[i] = ak.zip({key.replace(\"Muon_\",\"\"):muons_list[i][key] for key in muons_list[i].fields}, with_name = \"Momentum4D\")\n",
    "    jets_list[i] = ak.zip({key.replace(\"Jet_\",\"\"):jets_list[i][key] for key in jets_list[i].fields}, with_name = \"Momentum4D\")\n",
    "\n",
    "    # combine fields into a single awkward \"events array\" via ak.zip\n",
    "    events_list[i] = ak.zip({\"Muon\": muons_list[i], \"Jet\": jets_list[i]}, depth_limit=1)\n",
    "# the lists corresponding to the arrays contain multiple numbers\n",
    "\n",
    "print(\"Event fields:      \", events_list[0].fields)\n",
    "print(\"\")\n",
    "print(\"Muon fields:       \", events_list[0].Muon.fields)\n",
    "print(\"Muon object class: \", type(events_list[0].Muon))\n",
    "print(\"\")\n",
    "print(\"Jet fields:        \", events_list[0].Jet.fields)\n",
    "print(\"Jet object class:  \", type(events_list[0].Jet))"
   ]
  },
  {
   "cell_type": "markdown",
   "id": "85de0f8b",
   "metadata": {
    "tags": []
   },
   "source": [
    "## Event selection"
   ]
  },
  {
   "cell_type": "markdown",
   "id": "1564ff3d",
   "metadata": {},
   "source": [
    "We hope to examine the final states of the events and search for a signature that might be reminiscent of the decay of two Higgs bosons which might indicate a Di-Higgs event. The selection is performed by making various cuts on the data. Namely:\n",
    "\n",
    "Muons:\n",
    "* exactly one muon\n",
    "* minimum $p_T$ of 25 GeV\n",
    "* no constraint on $\\eta$\n",
    "\n",
    "Jets:\n",
    "* at least 4 jets\n",
    "* two of which must be b-jets\n",
    "* minimum $p_T$ of 25 GeV\n",
    "* no constraint on $\\eta$\n",
    "\n",
    "The btagDeepB is not a binary response and can attain the continuous range of values betweeen 0 and 1. Thus \"determining\" if a jet is identified as a b-jet depends on the *workingpoint* with which a b-jet is \"defined\".\n",
    "\n",
    "The cuts on $p_T$ (and $\\eta$) are cuts on objects whereas cuts on the number of objects are cuts on the events. They are performed in a particular order: object cuts first, event cuts second. This is to guarantee that only those events are selected which feature the desired signature."
   ]
  },
  {
   "cell_type": "code",
   "execution_count": 6,
   "id": "bacfa12b",
   "metadata": {},
   "outputs": [],
   "source": [
    "# th most common workingpoints for b-jet identifikation\n",
    "btag_loose = 0.1208\n",
    "btag_medium = 0.4168\n",
    "btag_tight = 0.7665"
   ]
  },
  {
   "cell_type": "markdown",
   "id": "cd1c74cb-d2a9-4b15-b02f-71b62a13cf05",
   "metadata": {},
   "source": [
    "The cuts are performed by applying masks on the arrays, selecting only those objects / events which satisfy the signature. Separate functions have been written to return the object and event masks, with unique event masks for leptons and jets respectively, as different numbers of objects are required for the two. Exclusively for the jets, another function has been defined that solely returns the b-tagging mask. Both the masks as well as the cut requirements on the various physical quantities are exemplarily hard-coded in this notebook, but you are very much welcome to make improvements to it!\n",
    "\n",
    "The way it is implemented down below, applying the mask overwrites the event data such that the remaining data is the one of interest. Notice how the event masks are defined and applied immediately after i.e before defining the following event masks. This is due to the fact that masks have to be defined for the exact arrays they are supposed to act on. If an event mask is applied to an array which the mask was not defined on, an error will be raised. This is not an issue for object masks, since the arrays stay the \"same\" in terms of still featuring the event (eventhough certain objects might have been cut)."
   ]
  },
  {
   "cell_type": "code",
   "execution_count": 7,
   "id": "691f2275",
   "metadata": {},
   "outputs": [],
   "source": [
    "# create a mask that cuts objects\n",
    "def object_mask(obj, eta, pt):\n",
    "    return (np.abs(obj.eta) < eta) & (obj.pt > pt)\n",
    "\n",
    "# create mask that cuts events by requiring a certain number of lepton objects\n",
    "def number_lep_mask(event, n):\n",
    "    return (ak.num(event) == n)\n",
    "\n",
    "# create mask that cuts events by requiring a certain number of jet objects\n",
    "def number_jet_mask(event, n):\n",
    "    return (ak.num(event) >= n)\n",
    "\n",
    "# create mask that cuts events by requiring a certain number of b-jet objects\n",
    "def number_btag_mask(event, b):\n",
    "    return (ak.num(event[event.btagDeepB > btag_tight]) == b)\n",
    "\n",
    "\n",
    "# masking function\n",
    "def mask_events(event_data):   \n",
    "\n",
    "    # muon properties\n",
    "    m_eta = 10\n",
    "    m_pt = 25\n",
    "    m_n = 1\n",
    "    \n",
    "    # jet properties\n",
    "    j_eta = 10\n",
    "    j_pt = 25\n",
    "    j_n = 4\n",
    "    j_btag = 2\n",
    "    \n",
    "    # mask for object based cuts on the full event data\n",
    "    m_mask_obj = object_mask(event_data['Muon'], m_eta, m_pt)\n",
    "    j_mask_obj = object_mask(event_data['Jet'], j_eta, j_pt)\n",
    "    \n",
    "    # apply object based cuts on full event data and overwrite original data\n",
    "    event_data['Muon'] = event_data['Muon'][m_mask_obj]\n",
    "    event_data['Jet'] = event_data['Jet'][j_mask_obj]\n",
    "            \n",
    "    # mask for and apply event based cut on object-masked data    \n",
    "    m_mask_n = number_lep_mask(event_data['Muon'], m_n)\n",
    "    event_data = event_data[m_mask_n]\n",
    "    \n",
    "    j_mask_n = number_jet_mask(event_data['Jet'], j_n)\n",
    "    event_data = event_data[j_mask_n]\n",
    "    \n",
    "    j_mask_b = number_btag_mask(event_data['Jet'], j_btag)\n",
    "    event_data = event_data[j_mask_b]\n",
    "\n",
    "    # number of events after performing cuts\n",
    "    events_final = ak.num(event_data)\n",
    "\n",
    "    return event_data #events_final, len(events_final)\n",
    "    "
   ]
  },
  {
   "cell_type": "code",
   "execution_count": 8,
   "id": "431c9a25",
   "metadata": {},
   "outputs": [],
   "source": [
    "# finally apply selection on data\n",
    "selection_list = [None for i in range(len(muons_list))]\n",
    "\n",
    "for count, events in enumerate(events_list):\n",
    "    selection_list[count] = mask_events(events)"
   ]
  },
  {
   "cell_type": "markdown",
   "id": "845b20d8",
   "metadata": {
    "tags": []
   },
   "source": [
    "## Plot selection in histograms"
   ]
  },
  {
   "cell_type": "markdown",
   "id": "2f68a5f9-de63-4928-b475-a5b3d33057e6",
   "metadata": {
    "tags": []
   },
   "source": [
    "The \"physics\" of a process is given by the cross section associated with it. Statements on the cross section can be made by measuring the integrated luminosity, which is solely given by the experiment, and detecting the number of events:\n",
    "\n",
    "### $(1) \\,\\,\\, N = L_{int} \\cdot \\sigma$\n",
    "\n",
    "We now wish to plot the selection of the signal data and background data in the same plot to compare the number of events in a histogram. For the histogram to make physical sense, the luminosities of the processes have to be the same such that the number of events for signal and background processes are given by the proportional differences between the cross sections. The cross sections for the signal and background processes are all very known values from theoretical calculations and experimental results. The situation for the luminosities, though, is very different. Since the data that is being used for this notebook is from Monte Carlo simulations the \"effective luminosities\" with which the events are generated, can be arbitrarily high. Naturally, for comparable file sizes, the effective luminosities are very different for the processes that are being considered here. The different contributions to the histograms thus have to be weighted for the number of events of the processes to be in correct proportions.\n",
    "\n",
    "First, the effective luminosities are calculated using formula $(1)$. It is important to note, that for $N$ the number of all events in the data has to be used not only the selected events. This is of course because all events in the files are simulated as e.g. Di-Higgs signals. The selection only contains the Di-Higgs events which match the signature we are looking for. The same is true for the background. The weights are calculated as the fractions of the effective luminosities and a \"real\" luminosity which is supposed to immitate a certain experiment. Since it only specifies the scale for the number of events and has no influence on the relative differences it is exemplarily set to 1."
   ]
  },
  {
   "cell_type": "code",
   "execution_count": 9,
   "id": "d71d49e3",
   "metadata": {},
   "outputs": [
    {
     "name": "stdout",
     "output_type": "stream",
     "text": [
      "[1.4027574426549536e-08, 0.0002815533230293663, 5.584112149532711e-05, 0.008292137570006304]\n"
     ]
    }
   ],
   "source": [
    "# cross sections and weights: N = L * sigma\n",
    "\n",
    "# cross sections in pb\n",
    "sig_HH = 3.4491e-3\n",
    "sig_tt = 364.33\n",
    "sig_st = 35.85\n",
    "sig_Wj = 3130\n",
    "\n",
    "# number of generated events prior to selection\n",
    "N_HH = len(ak.num(events_list[0]))\n",
    "N_tt = len(ak.num(events_list[1]))\n",
    "N_st = len(ak.num(events_list[2]))\n",
    "N_Wj = len(ak.num(events_list[3]))\n",
    "\n",
    "# \"real\" luminosity in pb (this value is not actually correct, it's just to get the point across)\n",
    "L = 1\n",
    "\n",
    "# Monte Carlo luminosities\n",
    "L_HH = N_HH / sig_HH\n",
    "L_tt = N_tt / sig_tt\n",
    "L_st = N_st / sig_st\n",
    "L_Wj = N_Wj / sig_Wj\n",
    "\n",
    "# weights relative to signal luminosity\n",
    "w_HH = L / L_HH\n",
    "w_tt = L / L_tt\n",
    "w_st = L / L_st\n",
    "w_Wj = L / L_Wj\n",
    "\n",
    "weights = [w_HH, w_tt, w_st, w_Wj]\n",
    "\n",
    "print(weights)"
   ]
  },
  {
   "cell_type": "markdown",
   "id": "3de65a71-74fe-43ab-bb43-46bdadb1abff",
   "metadata": {},
   "source": [
    "Before the histograms can be plottet they have to be constructed first. For this another package called *hist* is used. It's the prevailing method of making histograms in the context of high energy physics. Histograms are made for muons and jets separately, each with the subcategories of signal and the various backgrounds that are being considered. New histograms are made by calling `hist.Hist.new`. The physical quantities in respect to which the histogram can be plotted are added by simply specifying the axis type (type of binning) and the name. The *string category* axis makes a histogram based on the string attributes specified. The *regular* axis makes a histogram with a set number of equally sized bins ranging from a starting value to an ending value. The *variable* axis makes a histogram with manually set bins which do not have to have the same size. There are also other axis types but they won't be used here. All of these axes can be embedded into a single \"multidimensional\" hist object.\n",
    "\n",
    "The histograms also have to be filled with data. This is done with the `fill` function where it is important that the axis names correspond to the variables that are being filled and also that the data to be filled is flattened. Otherwise an error is raised."
   ]
  },
  {
   "cell_type": "code",
   "execution_count": 10,
   "id": "0cc3c1ba",
   "metadata": {},
   "outputs": [],
   "source": [
    "# object list\n",
    "objects = [[\"Muon\", [\"signal\", \"bgr_tt\", \"bgr_st\", \"bgr_Wj\"]], [\"Jet\", [\"signal\", \"bgr_tt\", \"bgr_st\", \"bgr_Wj\"]]]\n",
    "\n",
    "object_hist_dict = {}\n",
    "\n",
    "for i in objects:\n",
    "\n",
    "    # construct histogram for muons and jets displaying the distribution in pt, eta and phi\n",
    "    object_hist_dict[i[0]] = (\n",
    "        hist.Hist.new\n",
    "        .StrCat([i[1][0], i[1][3], i[1][2], i[1][1]], name = \"object_type\", label = \"object\") # histrogramm with 4 separate categories\n",
    "        .Reg(20, 30, 100, name = \"pt\", label = f\"{i[0]} \" + \"$p_{T}$ [GeV]\") # histogram with regular sized bins (20 bins, starting pt 30 ending pt 100)\n",
    "        .Var(np.linspace(-2.5, 2.5, 20), name = \"eta\", label = f\"{i[0]} \" + \"$\\eta$\") # histogram with variable sized bins (specified bins [])\n",
    "        .Reg(20, -np.pi, np.pi, name = \"phi\", label = f\"{i[0]} \" + \"$\\\\phi$\")\n",
    "        .Double() # what is this though?\n",
    "    ) \n",
    "\n",
    "    for count, sub_cat in enumerate(i[1]):\n",
    "    \n",
    "        # Pass keyword arguments to fill, all arrays must be flat numpy arrays\n",
    "        # User is responsible for ensuring all arrays have same jagged structure!\n",
    "\n",
    "        # histogram fill for electrons\n",
    "        object_hist_dict[i[0]].fill(\n",
    "            object_type = sub_cat,\n",
    "            pt = ak.flatten(selection_list[count][i[0]].pt),\n",
    "            eta = ak.flatten(selection_list[count][i[0]].eta),\n",
    "            phi = ak.flatten(selection_list[count][i[0]].phi),\n",
    "            weight = weights[count]\n",
    "        )"
   ]
  },
  {
   "cell_type": "code",
   "execution_count": 84,
   "id": "4b6d1e20-2a6a-44d6-af63-817c4cb8f24b",
   "metadata": {},
   "outputs": [],
   "source": [
    "# construct sub histograms to be plotted \n",
    "selection_hist = [[object_hist_dict['Muon'][0, :, ::sum, ::sum], object_hist_dict['Muon'][1:, :, ::sum, ::sum]], # signal, background vs pt\n",
    "                  [object_hist_dict['Muon'][0, ::sum, :, ::sum], object_hist_dict['Muon'][1:, ::sum, :, ::sum]], # signal, background vs eta\n",
    "                  [object_hist_dict['Muon'][0, ::sum, ::sum, :], object_hist_dict['Muon'][1:, ::sum, ::sum, :]], # signal, background vs phi\n",
    "                  [object_hist_dict['Jet'][0, :, ::sum, ::sum], object_hist_dict['Jet'][1:, :, ::sum, ::sum]],   # signal, background vs pt\n",
    "                  [object_hist_dict['Jet'][0, ::sum, :, ::sum], object_hist_dict['Jet'][1:, ::sum, :, ::sum]],   # signal, background vs eta\n",
    "                  [object_hist_dict['Jet'][0, ::sum, ::sum, :], object_hist_dict['Jet'][1:, ::sum, ::sum, :]]]   # signal, background vs phi"
   ]
  },
  {
   "cell_type": "markdown",
   "id": "567835d6-6631-415c-8869-2cc91b148e04",
   "metadata": {},
   "source": [
    "From the two histograms that have been made and filled for the muons and jets the number of events in dependance of $p_T$, $\\eta$ and $\\phi$ can be plotted."
   ]
  },
  {
   "cell_type": "code",
   "execution_count": 85,
   "id": "9dba6cf7",
   "metadata": {},
   "outputs": [
    {
     "data": {
      "image/png": "[encoded data removed]",
      "text/plain": [
       "<Figure size 800x1200 with 6 Axes>"
      ]
     },
     "metadata": {},
     "output_type": "display_data"
    }
   ],
   "source": [
    "# cms style\n",
    "plt.style.use(mplhep.style.CMS)\n",
    "\n",
    "fig = plt.figure(figsize = (20, 20*3/2), facecolor = 'white', dpi = 40)\n",
    "\n",
    "fig.subplots_adjust(wspace=0.3, hspace=0.3)\n",
    "\n",
    "# a splash of color\n",
    "plt.rcParams['axes.prop_cycle'] = plt.cycler(color=[\"seagreen\", \"peachpuff\", \"cadetblue\"])\n",
    "# plt.rcParams['axes.prop_cycle'] = plt.cycler(color=[\"thistle\", \"mediumorchid\", \"indigo\"])\n",
    "# plt.rcParams['axes.prop_cycle'] = plt.cycler(color=[\"limegreen\", \"yellow\", \"red\"])\n",
    "\n",
    "# opacity of the plots\n",
    "a = 0.75\n",
    "\n",
    "# assignment of axes\n",
    "ax1 = fig.add_subplot(3, 2, 1)\n",
    "ax4 = fig.add_subplot(3, 2, 2)\n",
    "ax2 = fig.add_subplot(3, 2, 3)\n",
    "\n",
    "ax5 = fig.add_subplot(3, 2, 4)\n",
    "ax3 = fig.add_subplot(3, 2, 5)\n",
    "ax6 = fig.add_subplot(3, 2, 6)\n",
    "\n",
    "axes = {0: ax1, 1: ax2, 2: ax3, 3: ax4, 4: ax5, 5: ax6}\n",
    "\n",
    "for count, sub_hist in enumerate(selection_hist):\n",
    "    \n",
    "    # plot of background sub histogram\n",
    "    sub_hist[1].plot1d(\n",
    "        ax = axes[count],\n",
    "        overlay = \"object_type\",\n",
    "        histtype = \"fill\",\n",
    "        stack = True,\n",
    "        alpha = a,\n",
    "        edgecolor = (0, 0, 0, 0.3),\n",
    "        # label = \"muons\"\n",
    "    )\n",
    "    \n",
    "    # plot of signal sub histogram\n",
    "    sub_hist[0].plot1d(\n",
    "        ax = axes[count],\n",
    "        overlay = \"object_type\",\n",
    "        histtype = \"step\",\n",
    "        stack = False,\n",
    "        alpha = 1,\n",
    "        edgecolor = (0, 0, 0, 0),\n",
    "        label = \"signal\"\n",
    "    )\n",
    "\n",
    "    axes[count].semilogy()\n",
    "    axes[count].set_ylabel(\"Events from selection\")\n",
    "    mplhep.cms.label(ax = axes[count], label=\"Private Work\")\n",
    "    axes[count].legend()\n",
    "\n",
    "plt.show()"
   ]
  },
  {
   "cell_type": "markdown",
   "id": "99580871-7a6c-4ea7-b187-9586b22e5c75",
   "metadata": {},
   "source": [
    "The first time you run the cell above after restarting the kernel, the title, axes and legend are shown super tiny. Just run the cell again and everything should be fine."
   ]
  },
  {
   "cell_type": "markdown",
   "id": "df17e489",
   "metadata": {
    "tags": []
   },
   "source": [
    "# BACKUP CELLS"
   ]
  }
 ],
 "metadata": {
  "kernelspec": {
   "display_name": "cms-analysis",
   "language": "python",
   "name": "cms-analysis"
  },
  "language_info": {
   "codemirror_mode": {
    "name": "ipython",
    "version": 3
   },
   "file_extension": ".py",
   "mimetype": "text/x-python",
   "name": "python",
   "nbconvert_exporter": "python",
   "pygments_lexer": "ipython3",
   "version": "3.10.4"
  }
 },
 "nbformat": 4,
 "nbformat_minor": 5
}
