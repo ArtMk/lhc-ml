{
 "cells": [
  {
   "cell_type": "markdown",
   "id": "c3577d93-65d1-4d11-a7c0-ae008a95c306",
   "metadata": {
    "tags": []
   },
   "source": [
    "# 4. Event Selection - Preparing Input Data for the Neural Network"
   ]
  },
  {
   "cell_type": "markdown",
   "id": "21711ee9-617f-4f9b-b6c9-e69846956a63",
   "metadata": {},
   "source": [
    "In the last notebook the exemplary neural network from notebooks 1. and 2. was implemented using Keras making our lives significantly easier by outsourcing the solutions of difficult code, like forward and backward propagation, to Keras functions, ultimately simplifying the code and letting us concentrate on the physics problem at hand.\n",
    "\n",
    "In this notebook we already want to dive deeper into the real physics at the LHC, CMS specifically, and preprocess the data for the neural network. This primarily entails the selection of the relevant events from the whole data by imposing cuts on physical quantities and event characteristics."
   ]
  },
  {
   "cell_type": "markdown",
   "id": "5d5b170c-df8b-44ee-9960-c3f11fade9fe",
   "metadata": {
    "tags": []
   },
   "source": [
    "## Di - Higgs"
   ]
  },
  {
   "cell_type": "markdown",
   "id": "87062a9e-dc19-43c5-a135-ae699eeca37f",
   "metadata": {
    "tags": []
   },
   "source": [
    "The goal of this notebook series is to make a neural network that is capable of identifying Di-Higgs events. Di-Higgs events are events where a Higgs boson splits into two Higgs bosons via the 3-point self interaction. From the Higgs theory it is evident that this process is very rare and incredibly difficult to come by and identify. The primary Higgs can be produced in various ways, the most prevalent one being gluon-gluon-fusion accounting for about 87% of the  production. The two Higgs in the final state then continue to decay in different ways. One of the ways to identify a Di-Higgs event is to look for a bb + l signiture, where the bb jets come from one Higgs and the lepton originates from the other. For the signiture only muons are looked at (in this notebook at least).\n",
    "\n",
    "This process of course has it's fair share of background like the production of top quarks, production of W bosons associated with jets and many others due to various QCD interactions.\n",
    "\n",
    "In this notebook real experimental data will not be used, instead, Monte Carlo simulated data for the separate signal and background processes will be used."
   ]
  },
  {
   "cell_type": "markdown",
   "id": "b9c189a4",
   "metadata": {
    "tags": []
   },
   "source": [
    "## Data opening and preparation"
   ]
  },
  {
   "cell_type": "code",
   "execution_count": 1,
   "id": "6f855386",
   "metadata": {},
   "outputs": [
    {
     "name": "stderr",
     "output_type": "stream",
     "text": [
      "2022-08-22 10:42:30.902220: W tensorflow/stream_executor/platform/default/dso_loader.cc:64] Could not load dynamic library 'libcudart.so.11.0'; dlerror: libcudart.so.11.0: cannot open shared object file: No such file or directory\n",
      "2022-08-22 10:42:30.902255: I tensorflow/stream_executor/cuda/cudart_stub.cc:29] Ignore above cudart dlerror if you do not have a GPU set up on your machine.\n"
     ]
    }
   ],
   "source": [
    "import pyarrow.parquet as pq\n",
    "import numpy as np\n",
    "import matplotlib.pyplot as plt\n",
    "import awkward as ak\n",
    "import uproot\n",
    "import hist\n",
    "import mplhep\n",
    "import vector\n",
    "import os\n",
    "\n",
    "from tensorflow import keras\n",
    "from keras.models import Sequential\n",
    "from keras.layers import Dense\n",
    "from keras.initializers import RandomUniform"
   ]
  },
  {
   "cell_type": "code",
   "execution_count": 2,
   "id": "544da204",
   "metadata": {},
   "outputs": [
    {
     "name": "stdout",
     "output_type": "stream",
     "text": [
      "['C6092B8E-34AB-324C-97BC-2FE673889E32.root']\n"
     ]
    }
   ],
   "source": [
    "# locate directory\n",
    "files = os.listdir('/nfs/dust/cms/user/matsch/for_Artak/GluGluToHHTobbVV/')\n",
    "print(files)"
   ]
  },
  {
   "cell_type": "markdown",
   "id": "a18b9463-a651-491e-9ae9-b83b0f9f7971",
   "metadata": {},
   "source": [
    "Once the data directories are located the individual files that are within are opened using *uproot*. Uproot is a python package that is capable of opening and manipulating *ROOT* format files. These are files structured in a similar way to UNIX file directories where objects can be stored in an arbitrary substructure in a machine independent fashion.\n",
    "\n",
    "Because the data regarding particular process is available over a series of \"bite-sized\" files, it is quite handy to store the opened files in a dictionary where each entry refers to a different process and the inidivdual files can be accessed via the key associated with the process."
   ]
  },
  {
   "cell_type": "code",
   "execution_count": 3,
   "id": "3fa4b768",
   "metadata": {},
   "outputs": [
    {
     "name": "stdout",
     "output_type": "stream",
     "text": [
      "{'signal': [<TTree 'Events' (1628 branches) at 0x2b4668331030>], 'bgr_tt': [<TTree 'Events' (1628 branches) at 0x2b4668330f40>], 'bgr_st': [<TTree 'Events' (1628 branches) at 0x2b4668330e80>], 'bgr_Wj': [<TTree 'Events' (1628 branches) at 0x2b4668331060>, <TTree 'Events' (1628 branches) at 0x2b47d91a2bf0>, <TTree 'Events' (1628 branches) at 0x2b4668330fa0>]}\n"
     ]
    }
   ],
   "source": [
    "# register awkward to be able to use 4-vector behaviour \n",
    "vector.register_awkward()\n",
    "\n",
    "# specify directory paths\n",
    "p_signal = '/nfs/dust/cms/user/matsch/for_Artak/GluGluToHHTobbVV/'\n",
    "p_bgr_tt = '/nfs/dust/cms/user/matsch/for_Artak/TTToSemiLeptonic/'\n",
    "p_bgr_st = '/nfs/dust/cms/user/matsch/for_Artak/ST_tW_top_5f_inclusive/'\n",
    "p_bgr_Wj = '/nfs/dust/cms/user/matsch/for_Artak/WJetsToLNu/'\n",
    "\n",
    "# dictionary containing files for signal and background processes \n",
    "files_dict = {'signal': p_signal, 'bgr_tt': p_bgr_tt, 'bgr_st': p_bgr_st, 'bgr_Wj': p_bgr_Wj}\n",
    "\n",
    "# specify individual file paths and open them with uproot\n",
    "# when opening a file, different types of data are written in a dictionary\n",
    "for dirr in files_dict:\n",
    "    files = os.listdir(files_dict[dirr])\n",
    "    \n",
    "    for count, file in enumerate(files):\n",
    "        files[count] = uproot.open(files_dict[dirr] + file)\n",
    "        \n",
    "    files_dict[dirr] = files\n",
    "    \n",
    "# read out trees\n",
    "tree_dict = {}\n",
    "\n",
    "# particular data categories can be accessed with \"key\" \"value\" method by using sqare brackets\n",
    "# event trees are extracted from the files\n",
    "for dirr in files_dict:\n",
    "    dirr_files = files_dict[dirr]\n",
    "    \n",
    "    for count, file in enumerate(dirr_files):\n",
    "        dirr_files[count] = file[\"Events\"]\n",
    "    \n",
    "    tree_dict[dirr] = dirr_files\n",
    "    \n",
    "print(tree_dict)"
   ]
  },
  {
   "cell_type": "markdown",
   "id": "141de7d3",
   "metadata": {
    "tags": []
   },
   "source": [
    "## Directly accessing fields via filters"
   ]
  },
  {
   "cell_type": "markdown",
   "id": "caf4353c-7631-47ca-97c8-c9bd2d8d3e3b",
   "metadata": {},
   "source": [
    "Following the opening of the files, the necessary fields for the selection of events have to be specified and accessed via filters. This is done using a python package called *awkward*. It's great for nested variable-sized data and performs operations very quickly. The events from the different files are converted into awkward arrays all the while only the specified fields are selected. This is done such that muons and jets, the signature we are actively looking for, are stored separately in a list for all the files.\n",
    "\n",
    "The fields that are relevant to this little analysis are:\n",
    "* $p_T$ [GeV]\n",
    "* $\\eta$\n",
    "* $\\phi$ [rad]\n",
    "* mass [GeV]\n",
    "* charge\n",
    "\n",
    "For jets there's additionally a field called \"btagDeepB\" which can be understood as the probability of a certain jet to be identified as a b-jet."
   ]
  },
  {
   "cell_type": "code",
   "execution_count": 4,
   "id": "8c93cd7c",
   "metadata": {},
   "outputs": [],
   "source": [
    "# necessary fields to be extracted\n",
    "fields = [\"pt\", \"eta\", \"phi\", \"mass\", \"charge\", \"btagDeepB\"]\n",
    "\n",
    "# only muons and jets are selected since they make up the desired signiture\n",
    "muons_dict = {}\n",
    "jets_dict = {}\n",
    "\n",
    "# for each file the specified fields are selected for muons and jets only\n",
    "for dirr in tree_dict:\n",
    "    trees = tree_dict[dirr]\n",
    "    \n",
    "    # temporary lists to store awkward arrays\n",
    "    muons_temp = []\n",
    "    jets_temp = []\n",
    "    \n",
    "    for tree in trees:\n",
    "        muons_temp.append(tree.arrays(filter_name = [\"Muon_\" + f for f in fields]))\n",
    "        jets_temp.append(tree.arrays(filter_name = [\"Jet_\" + f for f in fields]))\n",
    "    \n",
    "    muons_dict[dirr] = muons_temp\n",
    "    jets_dict[dirr] = jets_temp\n",
    "\n",
    "# concatenate all the same events into a single dictionary entry as if it originated from a single file\n",
    "for dirr in muons_dict:\n",
    "    muons_dict[dirr] = ak.concatenate(muons_dict[dirr], axis = 0)\n",
    "    \n",
    "for dirr in jets_dict:\n",
    "    jets_dict[dirr] = ak.concatenate(jets_dict[dirr], axis = 0)"
   ]
  },
  {
   "cell_type": "markdown",
   "id": "6906956a-e495-4039-9867-b335703696a2",
   "metadata": {},
   "source": [
    "The goal is to combine all \"particle arrays\" to a single \"events array\" where in the subcategories the attributes are no more referenced as \"{Object}\\_{field}\" but simply as the \"{field}\" .This is done using the function `replace`. Additionally, the argument `with_name = 'Momentum4D'` is given, which identifies the elements of the arrays as physical 4-vectors which in turn allows them to be used in physically relevant operations like the calculation of the invariant mass of the objects. With `zip` the new fields are combined in a new array. And finally, the two object arrays, muons and jets are zipped to construct the event array. The different subcategories can still be accessed by using the particle type and physical quantities as attributes."
   ]
  },
  {
   "cell_type": "code",
   "execution_count": 5,
   "id": "5fdfa3c1",
   "metadata": {},
   "outputs": [
    {
     "name": "stdout",
     "output_type": "stream",
     "text": [
      "Event fields:       ['Muon', 'Jet']\n",
      "\n",
      "Muon fields:        ['eta', 'mass', 'phi', 'pt', 'charge']\n",
      "Muon object class:  <class 'vector._backends.awkward_.MomentumArray4D'>\n",
      "\n",
      "Jet fields:         ['btagDeepB', 'eta', 'mass', 'phi', 'pt']\n",
      "Jet object class:   <class 'vector._backends.awkward_.MomentumArray4D'>\n"
     ]
    }
   ],
   "source": [
    "# switch naming of fields from \"{Object}_{field}\" to \"{field}\"\n",
    "events_dict = {}\n",
    "\n",
    "for i in muons_dict:\n",
    "    \n",
    "    muons_dict[i] = ak.zip({key.replace(\"Muon_\",\"\"):muons_dict[i][key] for key in muons_dict[i].fields}, with_name = \"Momentum4D\")\n",
    "    jets_dict[i] = ak.zip({key.replace(\"Jet_\",\"\"):jets_dict[i][key] for key in jets_dict[i].fields}, with_name = \"Momentum4D\")\n",
    "\n",
    "    # combine fields into a single awkward \"events array\" via ak.zip\n",
    "    events_dict[i] = ak.zip({\"Muon\": muons_dict[i], \"Jet\": jets_dict[i]}, depth_limit=1)\n",
    "    \n",
    "# the lists corresponding to the arrays contain multiple numbers\n",
    "\n",
    "print(\"Event fields:      \", events_dict['signal'].fields)\n",
    "print(\"\")\n",
    "print(\"Muon fields:       \", events_dict['signal'].Muon.fields)\n",
    "print(\"Muon object class: \", type(events_dict['signal'].Muon))\n",
    "print(\"\")\n",
    "print(\"Jet fields:        \", events_dict['signal'].Jet.fields)\n",
    "print(\"Jet object class:  \", type(events_dict['signal'].Jet))"
   ]
  },
  {
   "cell_type": "markdown",
   "id": "85de0f8b",
   "metadata": {
    "tags": []
   },
   "source": [
    "## Event selection"
   ]
  },
  {
   "cell_type": "markdown",
   "id": "1564ff3d",
   "metadata": {},
   "source": [
    "We hope to examine the final states of the events and search for a signature that might be reminiscent of the decay of two Higgs bosons which might indicate a Di-Higgs event. The selection is performed by making various cuts on the data. Namely:\n",
    "\n",
    "Muons:\n",
    "* exactly one muon\n",
    "* minimum $p_T$ of 25 GeV\n",
    "* maximum $|\\eta|$ of 2.5\n",
    "\n",
    "Jets:\n",
    "* at least 4 jets\n",
    "* two of which must be b-jets\n",
    "* minimum $p_T$ of 25 GeV\n",
    "* maximum $|\\eta|$ of 2.5\n",
    "\n",
    "The btagDeepB is not a binary response and can attain the continuous range of values betweeen 0 and 1. Thus \"determining\" if a jet is identified as a b-jet depends on the *workingpoint* with which a b-jet is \"defined\".\n",
    "\n",
    "The cuts on $p_T$ and $\\eta$ are cuts on objects whereas cuts on the number of objects are cuts on the events. They are performed in a particular order: object cuts first, event cuts second. This is to guarantee that only those events are selected which feature the desired signature."
   ]
  },
  {
   "cell_type": "code",
   "execution_count": 6,
   "id": "bacfa12b",
   "metadata": {},
   "outputs": [],
   "source": [
    "# the most common workingpoints for b-jet identification\n",
    "btag_loose = 0.1208\n",
    "btag_medium = 0.4168\n",
    "btag_tight = 0.7665"
   ]
  },
  {
   "cell_type": "markdown",
   "id": "cd1c74cb-d2a9-4b15-b02f-71b62a13cf05",
   "metadata": {},
   "source": [
    "The cuts are performed by applying masks on the arrays, selecting only those objects / events which satisfy the signature. Separate functions have been written to return the object and event masks, with unique event masks for leptons and jets respectively, as different numbers of objects are required for the two. Exclusively for the jets, another function has been defined that solely returns the b-tagging mask. Both the masks as well as the cut requirements on the various physical quantities are exemplarily hard-coded in this notebook, but you are very much welcome to make improvements to it!\n",
    "\n",
    "The way it is implemented down below, applying the mask overwrites the event data such that the remaining data is the one of interest. Notice how the event masks are defined and applied immediately after i.e before defining the following event masks. This is due to the fact that masks have to be defined for the exact arrays they are supposed to act on. If an event mask is applied to an array which the mask was not defined on, an error will be raised. This is not an issue for object masks, since the arrays stay the \"same\" in terms of still featuring the event (eventhough certain objects might have been cut)."
   ]
  },
  {
   "cell_type": "code",
   "execution_count": 7,
   "id": "691f2275",
   "metadata": {},
   "outputs": [],
   "source": [
    "# create a mask that cuts objects\n",
    "def object_mask(obj, eta, pt):\n",
    "    return (np.abs(obj.eta) < eta) & (obj.pt > pt)\n",
    "\n",
    "# create mask that cuts events by requiring a certain number of lepton objects\n",
    "def number_lep_mask(event, n):\n",
    "    return (ak.num(event) == n)\n",
    "\n",
    "# create mask that cuts events by requiring a certain number of jet objects\n",
    "def number_jet_mask(event, n):\n",
    "    return (ak.num(event) >= n)\n",
    "\n",
    "# create mask that cuts events by requiring a certain number of b-jet objects\n",
    "def number_btag_mask(event, b):\n",
    "    return (ak.num(event[event.btagDeepB > btag_tight]) == b)\n",
    "\n",
    "\n",
    "# masking function\n",
    "def mask_events(event_data):   \n",
    "\n",
    "    # muon properties\n",
    "    m_eta = 2.5\n",
    "    m_pt = 25\n",
    "    m_n = 1\n",
    "    \n",
    "    # jet properties\n",
    "    j_eta = 2.5\n",
    "    j_pt = 25\n",
    "    j_n = 4\n",
    "    j_btag = 2\n",
    "    \n",
    "    # mask for object based cuts on the full event data\n",
    "    m_mask_obj = object_mask(event_data['Muon'], m_eta, m_pt)\n",
    "    j_mask_obj = object_mask(event_data['Jet'], j_eta, j_pt)\n",
    "    \n",
    "    # apply object based cuts on full event data and overwrite original data\n",
    "    event_data['Muon'] = event_data['Muon'][m_mask_obj]\n",
    "    event_data['Jet'] = event_data['Jet'][j_mask_obj]\n",
    "            \n",
    "    # mask for and apply event based cut on object-masked data    \n",
    "    m_mask_n = number_lep_mask(event_data['Muon'], m_n)\n",
    "    event_data = event_data[m_mask_n]\n",
    "    \n",
    "    j_mask_n = number_jet_mask(event_data['Jet'], j_n)\n",
    "    event_data = event_data[j_mask_n]\n",
    "    \n",
    "    j_mask_b = number_btag_mask(event_data['Jet'], j_btag)\n",
    "    event_data = event_data[j_mask_b]\n",
    "\n",
    "    # number of events after performing cuts\n",
    "    events_final = ak.num(event_data)\n",
    "\n",
    "    return event_data #events_final, len(events_final)\n",
    "    "
   ]
  },
  {
   "cell_type": "code",
   "execution_count": 8,
   "id": "431c9a25",
   "metadata": {},
   "outputs": [],
   "source": [
    "# finally apply selection on data\n",
    "selection_dict = {}\n",
    "\n",
    "for events in events_dict:\n",
    "    selection_dict[events] = mask_events(events_dict[events])"
   ]
  },
  {
   "cell_type": "markdown",
   "id": "845b20d8",
   "metadata": {
    "tags": []
   },
   "source": [
    "## Plot selection in histograms"
   ]
  },
  {
   "cell_type": "markdown",
   "id": "2f68a5f9-de63-4928-b475-a5b3d33057e6",
   "metadata": {
    "tags": []
   },
   "source": [
    "The \"physics\" of a process is given by the cross section associated with it. Statements on the cross section can be made by measuring the integrated luminosity, which is solely given by the experiment, and detecting the number of events:\n",
    "\n",
    "### $(1) \\,\\,\\, N = L_{int} \\cdot \\sigma$\n",
    "\n",
    "We now wish to plot the selection of the signal data and background data in the same plot to compare the number of events in a histogram. For the histogram to make physical sense, the luminosities of the processes have to be the same such that the number of events for signal and background processes are given by the proportional differences between the cross sections. The cross sections for the signal and background processes are all very well known values from theoretical calculations and experimental results. The situation for the luminosities, though, is very different. Since the data that is being used for this notebook is from Monte Carlo simulations the \"effective luminosities\" with which the events are generated, can be arbitrarily high. Naturally, for comparable file sizes, the effective luminosities are very different for the processes that are being considered here. The different contributions to the histograms thus have to be weighted for the number of events of the processes to be in correct proportions.\n",
    "\n",
    "First, the effective luminosities are calculated using formula $(1)$. It is important to note, that for $N$ the number of all events in the data has to be used not only the selected events. This is of course because all events in the files are simulated as e.g. Di-Higgs signals. The selection only contains the Di-Higgs events which match the signature we are looking for. The same is true for the background. The weights are calculated as the fractions of the effective luminosities and a \"real\" luminosity which is supposed to immitate a certain experiment. Since it only specifies the scale for the number of events and has no influence on the relative differences it is exemplarily set to 1."
   ]
  },
  {
   "cell_type": "code",
   "execution_count": 9,
   "id": "d71d49e3",
   "metadata": {},
   "outputs": [
    {
     "name": "stdout",
     "output_type": "stream",
     "text": [
      "{'signal': 1.4027574426549536e-08, 'bgr_tt': 0.0002815533230293663, 'bgr_st': 5.584112149532711e-05, 'bgr_Wj': 0.002219050799248217}\n"
     ]
    }
   ],
   "source": [
    "# cross sections and weights: N = L * sigma\n",
    "\n",
    "# cross sections in pb\n",
    "sig_HH = 3.4491e-3\n",
    "sig_tt = 364.33\n",
    "sig_st = 35.85\n",
    "sig_Wj = 3130\n",
    "\n",
    "# number of generated events prior to selection\n",
    "N_HH = len(ak.num(events_dict['signal']))\n",
    "N_tt = len(ak.num(events_dict['bgr_tt']))\n",
    "N_st = len(ak.num(events_dict['bgr_st']))\n",
    "N_Wj = len(ak.num(events_dict['bgr_Wj']))\n",
    "\n",
    "# \"real\" luminosity in pb (this value is not actually correct, it's just to get the point across)\n",
    "L = 1\n",
    "\n",
    "# Monte Carlo luminosities\n",
    "L_HH = N_HH / sig_HH\n",
    "L_tt = N_tt / sig_tt\n",
    "L_st = N_st / sig_st\n",
    "L_Wj = N_Wj / sig_Wj\n",
    "\n",
    "# weights relative to signal luminosity\n",
    "w_HH = L / L_HH\n",
    "w_tt = L / L_tt\n",
    "w_st = L / L_st\n",
    "w_Wj = L / L_Wj\n",
    "\n",
    "weights = {'signal': w_HH, 'bgr_tt': w_tt, 'bgr_st': w_st, 'bgr_Wj': w_Wj}\n",
    "\n",
    "print(weights)"
   ]
  },
  {
   "cell_type": "markdown",
   "id": "3de65a71-74fe-43ab-bb43-46bdadb1abff",
   "metadata": {},
   "source": [
    "Before the histograms can be plottet they have to be constructed first. For this the convenient package *hist* is used. Histograms are made for muons and jets separately, each with the subcategories of signal and the various backgrounds that are being considered. New histograms are made by calling `hist.Hist.new`. The physical quantities in respect to which the histogram can be plotted are added by simply specifying the axis type (type of binning) and the name. The *string category* axis makes a histogram based on the string attributes specified. The *regular* axis makes a histogram with a set number of equally sized bins ranging from a starting value to an ending value. The *variable* axis makes a histogram with manually set bins which do not have to have the same size. There are also other axis types but they won't be used here. All of these axes can be embedded into a single \"multidimensional\" hist object.\n",
    "\n",
    "The histograms also have to be filled with data. This is done with the `fill` function where it is important that the axis names correspond to the variables that are being filled and also that the data to be filled is flattened. Otherwise an error is raised. Only the leading jets (jets with the highest $p_T$) are filled."
   ]
  },
  {
   "cell_type": "code",
   "execution_count": 10,
   "id": "0cc3c1ba",
   "metadata": {},
   "outputs": [],
   "source": [
    "# files list in order\n",
    "files_list = ['signal', 'bgr_tt', 'bgr_st', 'bgr_Wj']\n",
    "\n",
    "# object list\n",
    "objects = {\"Muon\": files_list, \"Jet\": files_list}\n",
    "\n",
    "object_hist_dict = {}\n",
    "\n",
    "for i in objects:\n",
    "\n",
    "    # construct histogram for muons and jets displaying the distribution in pt, eta and phi\n",
    "    object_hist_dict[i] = (\n",
    "        hist.Hist.new\n",
    "        .StrCat([objects[i][0], objects[i][3], objects[i][2], objects[i][1]], name = \"process\", label = \"process\") # histrogramm with 4 separate categories\n",
    "        .Reg(20, 30, 200, name = \"pt\", label = f\"{i} \" + \"$p_{T}$ [GeV]\") # histogram with regular sized bins (20 bins, starting pt 30 ending pt 100)\n",
    "        .Var(np.linspace(-2.5, 2.5, 20), name = \"eta\", label = f\"{i} \" + \"$\\eta$\") # histogram with variable sized bins (specified bins [])\n",
    "        .Reg(20, -np.pi, np.pi, name = \"phi\", label = f\"{i} \" + \"$\\\\phi$\")\n",
    "        .Double() # what is this though?\n",
    "    ) \n",
    "\n",
    "    for sub_cat in objects[i]:\n",
    "    \n",
    "        # fill histograms with leading jets\n",
    "        object_hist_dict[i].fill(\n",
    "            process = sub_cat,\n",
    "            pt = selection_dict[sub_cat][i].pt[:, 0],\n",
    "            eta = selection_dict[sub_cat][i].eta[:, 0],\n",
    "            phi = selection_dict[sub_cat][i].phi[:, 0],\n",
    "            weight = weights[sub_cat]\n",
    "        )"
   ]
  },
  {
   "cell_type": "code",
   "execution_count": 11,
   "id": "4b6d1e20-2a6a-44d6-af63-817c4cb8f24b",
   "metadata": {},
   "outputs": [],
   "source": [
    "# construct sub histograms to be plotted \n",
    "selection_hist = [[object_hist_dict['Muon'][0, :, ::sum, ::sum], object_hist_dict['Muon'][1:, :, ::sum, ::sum]], # signal, background vs pt\n",
    "                  [object_hist_dict['Muon'][0, ::sum, :, ::sum], object_hist_dict['Muon'][1:, ::sum, :, ::sum]], # signal, background vs eta\n",
    "                  [object_hist_dict['Muon'][0, ::sum, ::sum, :], object_hist_dict['Muon'][1:, ::sum, ::sum, :]], # signal, background vs phi\n",
    "                  [object_hist_dict['Jet'][0, :, ::sum, ::sum], object_hist_dict['Jet'][1:, :, ::sum, ::sum]],   # signal, background vs pt\n",
    "                  [object_hist_dict['Jet'][0, ::sum, :, ::sum], object_hist_dict['Jet'][1:, ::sum, :, ::sum]],   # signal, background vs eta\n",
    "                  [object_hist_dict['Jet'][0, ::sum, ::sum, :], object_hist_dict['Jet'][1:, ::sum, ::sum, :]]]   # signal, background vs phi"
   ]
  },
  {
   "cell_type": "markdown",
   "id": "567835d6-6631-415c-8869-2cc91b148e04",
   "metadata": {},
   "source": [
    "From the two histograms that have been made and filled for the muons and jets the number of events in dependance of $p_T$, $\\eta$ and $\\phi$ can be plotted."
   ]
  },
  {
   "cell_type": "code",
   "execution_count": 18,
   "id": "9dba6cf7",
   "metadata": {},
   "outputs": [
    {
     "data": {
      "image/png": "[encoded data removed]",
      "text/plain": [
       "<Figure size 800x1200 with 6 Axes>"
      ]
     },
     "metadata": {},
     "output_type": "display_data"
    }
   ],
   "source": [
    "# cms style\n",
    "plt.style.use(mplhep.style.CMS)\n",
    "\n",
    "fig = plt.figure(figsize = (20, 20*3/2), facecolor = 'white', dpi = 40)\n",
    "\n",
    "fig.subplots_adjust(wspace=0.3, hspace=0.3)\n",
    "\n",
    "# a splash of color\n",
    "plt.rcParams['axes.prop_cycle'] = plt.cycler(color=[\"seagreen\", \"peachpuff\", \"cadetblue\"])\n",
    "# plt.rcParams['axes.prop_cycle'] = plt.cycler(color=[\"thistle\", \"mediumorchid\", \"indigo\"])\n",
    "# plt.rcParams['axes.prop_cycle'] = plt.cycler(color=[\"limegreen\", \"yellow\", \"red\"])\n",
    "\n",
    "# opacity of the plots\n",
    "a = 0.75\n",
    "\n",
    "# assignment of axes\n",
    "ax1 = fig.add_subplot(3, 2, 1)\n",
    "ax4 = fig.add_subplot(3, 2, 2)\n",
    "ax2 = fig.add_subplot(3, 2, 3)\n",
    "\n",
    "ax5 = fig.add_subplot(3, 2, 4)\n",
    "ax3 = fig.add_subplot(3, 2, 5)\n",
    "ax6 = fig.add_subplot(3, 2, 6)\n",
    "\n",
    "axes = {0: ax1, 1: ax2, 2: ax3, 3: ax4, 4: ax5, 5: ax6}\n",
    "\n",
    "for count, sub_hist in enumerate(selection_hist):\n",
    "    \n",
    "    # plot of background sub histogram\n",
    "    sub_hist[1].plot1d(\n",
    "        ax = axes[count],\n",
    "        overlay = \"process\",\n",
    "        histtype = \"fill\",\n",
    "        stack = True,\n",
    "        alpha = a,\n",
    "        edgecolor = (0, 0, 0, 0.3),\n",
    "        # label = \"muons\"\n",
    "    )\n",
    "    \n",
    "    # plot of signal sub histogram\n",
    "    sub_hist[0].plot1d(\n",
    "        ax = axes[count],\n",
    "        overlay = \"process\",\n",
    "        histtype = \"step\",\n",
    "        stack = False,\n",
    "        alpha = 1,\n",
    "        edgecolor = (0, 0, 0, 0),\n",
    "        label = \"signal\"\n",
    "    )\n",
    "\n",
    "    axes[count].semilogy()\n",
    "    axes[count].set_ylabel(\"Events from selection\")\n",
    "    mplhep.cms.label(ax = axes[count], label=\"Private Work\")\n",
    "    axes[count].legend()\n",
    "\n",
    "plt.show()"
   ]
  },
  {
   "cell_type": "markdown",
   "id": "99580871-7a6c-4ea7-b187-9586b22e5c75",
   "metadata": {},
   "source": [
    "The first time you run the cell above after restarting the kernel, the title, axes and legend are shown super tiny. Just run the cell again and everything should be fine."
   ]
  },
  {
   "cell_type": "markdown",
   "id": "77deeb25-6da6-4322-9966-6aa39e22a6ad",
   "metadata": {},
   "source": [
    "## Preparing input vectors for the neural network"
   ]
  },
  {
   "cell_type": "markdown",
   "id": "e03dd394-25cd-4248-9429-aa21f7b39bf6",
   "metadata": {
    "jp-MarkdownHeadingCollapsed": true,
    "tags": []
   },
   "source": [
    "Neural networks take inputs in the form of \"vectors\", which can be implemented simply as numpy arrays. It is thus necessary to convert the awkward arrays used up until this point into numpy arrays. As a consequence the event data cannot be stored in the form of a dictionary anymore and must be ordered. The following shows the input vector structure used for the neural network:\n",
    "- Muon $p_t$\n",
    "- Muon $\\eta$\n",
    "- Muon $\\phi$\n",
    "\n",
    "- Jet 1 $p_t$\n",
    "- Jet 1 $\\eta$\n",
    "- Jet 1 $\\phi$\n",
    "- Jet 1 $btag$\n",
    ".    \n",
    ".     \n",
    ".    \n",
    "\n",
    "- Jet N $p_t$    \n",
    "- Jet N $\\eta$     \n",
    "- Jet N $\\phi$\n",
    "- Jet N $btag$\n",
    "\n",
    "For the neural network that we are going to use, the input vectors for all the events must have the same structure. Since the events have varying numbers of jets after the selection, they have to be adjusted such that all events feature the same number of events. This can be done in two ways:\n",
    "\n",
    "1. Only 3 or 4 jets are used, since all events are required to feature them. Eventhough many jets would be cut using this method, only true event data would be used. Note that among the 3 or 4 jets used, the b-jets must be included as they are a necessary feature of the signature that is being searched for.\n",
    "\n",
    "2. A greater number of jets are being used, since most events have more jets than 4. This method runs the risk that some events don't feature that many jets and the missing ones would have to be \"introduced artificially\" by adding e.g. zeroes to the vectors.\n",
    "\n",
    "In the end the first method is used with only 3 jets to keep the vectors and the neural network as simple as possible, though, this might not be the optimal configuration."
   ]
  },
  {
   "cell_type": "code",
   "execution_count": 13,
   "id": "caf64d81-ae9f-4a0f-aaf8-0e26f90a0d17",
   "metadata": {},
   "outputs": [],
   "source": [
    "# conversion of awkward arrays to numpy arrays\n",
    "nn_input_ak = {}\n",
    "\n",
    "for process in selection_dict:\n",
    "    \n",
    "    btag_mask = (selection_dict[process].Jet.btagDeepB > btag_tight)\n",
    "    \n",
    "    nn_input_ak[process] = ak.zip({\n",
    "        \"m_pt\": selection_dict[process].Muon.pt[:, 0], \n",
    "        \"m_eta\": selection_dict[process].Muon.eta[:, 0],\n",
    "        \"m_phi\": selection_dict[process].Muon.phi[:, 0],\n",
    "        \"j1_pt\": selection_dict[process].Jet[btag_mask].pt[:, 0],\n",
    "        \"j1_eta\": selection_dict[process].Jet[btag_mask].eta[:, 0],\n",
    "        \"j1_phi\": selection_dict[process].Jet[btag_mask].phi[:, 0],\n",
    "        \"j1_btag\": selection_dict[process].Jet[btag_mask].btagDeepB[:, 0],\n",
    "        \"j2_pt\": selection_dict[process].Jet[btag_mask].pt[:, 1],\n",
    "        \"j2_eta\": selection_dict[process].Jet[btag_mask].eta[:, 1],\n",
    "        \"j2_phi\": selection_dict[process].Jet[btag_mask].phi[:, 1],\n",
    "        \"j2_btag\": selection_dict[process].Jet[btag_mask].btagDeepB[:, 1],\n",
    "        \"j3_pt\": selection_dict[process].Jet[~btag_mask].pt[:, 0],\n",
    "        \"j3_eta\": selection_dict[process].Jet[~btag_mask].eta[:, 0],\n",
    "        \"j3_phi\": selection_dict[process].Jet[~btag_mask].phi[:, 0],\n",
    "        \"j3_btag\": selection_dict[process].Jet[~btag_mask].btagDeepB[:, 0],\n",
    "    })\n",
    "    \n",
    "nn_input = {k: ak.to_numpy(ak.Array(ak.unzip(nn_input_ak[k]))) for k in nn_input_ak.keys()}"
   ]
  },
  {
   "cell_type": "code",
   "execution_count": 14,
   "id": "c734c8ab-4543-4596-ad16-71b57881bc6d",
   "metadata": {},
   "outputs": [
    {
     "name": "stdout",
     "output_type": "stream",
     "text": [
      "[ 33.24768066  -2.20458984  -0.1552124  102.25        -0.37939453\n",
      "   1.07714844   0.96630859  47.78125     -0.97021484   2.47705078\n",
      "   0.99902344 145.375       -1.36816406  -0.36914062   0.3840332 ]\n"
     ]
    }
   ],
   "source": [
    "print(nn_input['signal'][:, 0])"
   ]
  },
  {
   "cell_type": "markdown",
   "id": "558fc6cf-d44d-4a61-b062-1925d9465cac",
   "metadata": {},
   "source": [
    "At the very end the input vectors for the neural network are saved in event specific files such that they can be opened in the next notebook."
   ]
  },
  {
   "cell_type": "code",
   "execution_count": 17,
   "id": "94b18646-bef3-4fc2-af5f-1b2a185f3717",
   "metadata": {},
   "outputs": [],
   "source": [
    "# save data\n",
    "for event_type in nn_input:\n",
    "    np.savetxt('nn_input_' + event_type + '.txt', nn_input[event_type], delimiter=' ', newline='\\n')"
   ]
  },
  {
   "cell_type": "markdown",
   "id": "df17e489",
   "metadata": {
    "tags": []
   },
   "source": [
    "# BACKUP CELLS"
   ]
  },
  {
   "cell_type": "code",
   "execution_count": null,
   "id": "e0f34e97-8a6c-4bea-aa7c-99ec129cc415",
   "metadata": {},
   "outputs": [],
   "source": []
  }
 ],
 "metadata": {
  "kernelspec": {
   "display_name": "cms-analysis",
   "language": "python",
   "name": "cms-analysis"
  },
  "language_info": {
   "codemirror_mode": {
    "name": "ipython",
    "version": 3
   },
   "file_extension": ".py",
   "mimetype": "text/x-python",
   "name": "python",
   "nbconvert_exporter": "python",
   "pygments_lexer": "ipython3",
   "version": "3.10.4"
  }
 },
 "nbformat": 4,
 "nbformat_minor": 5
}
