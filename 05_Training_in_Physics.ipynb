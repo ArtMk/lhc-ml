{
 "cells": [
  {
   "cell_type": "markdown",
   "id": "925ec8dc-bc27-46e1-8498-3803fe3d238a",
   "metadata": {},
   "source": [
    "# 5. Training in Physics"
   ]
  },
  {
   "cell_type": "markdown",
   "id": "15d5b8ea-4e6a-4bc7-8f01-7dbb76158aa1",
   "metadata": {},
   "source": [
    "In the last notebook events from the Di-Higgs signal process and some of its background processes were selected which fulfilled a desired signiture consisting of lepton and jet counts and requirements on some physical observables. The selected data was then converted into a vector form which can be used as input by a neural network and saved into files.\n",
    "\n",
    "In this notebook a neural network will be constructed which is capable of taking the selected data from the last notebook as input and target values for the training will be constructed."
   ]
  },
  {
   "cell_type": "code",
   "execution_count": 38,
   "id": "81b9272d-6e01-456b-957d-a49ebd6d7b72",
   "metadata": {},
   "outputs": [],
   "source": [
    "import numpy as np\n",
    "import matplotlib.pyplot as plt\n",
    "import mplhep\n",
    "import os\n",
    "\n",
    "from tensorflow import keras\n",
    "from keras.models import Sequential\n",
    "from keras.layers import Dense\n",
    "from keras.initializers import RandomUniform\n",
    "\n",
    "from sklearn.metrics import roc_curve\n",
    "from sklearn.metrics import roc_auc_score\n",
    "from sklearn.metrics import confusion_matrix\n",
    "from sklearn.metrics import ConfusionMatrixDisplay"
   ]
  },
  {
   "cell_type": "code",
   "execution_count": 2,
   "id": "2b80bfff-fcd2-426c-bf95-bc0cf5730673",
   "metadata": {},
   "outputs": [],
   "source": [
    "# open the neural network input vectors\n",
    "\n",
    "nn_input = {}\n",
    "\n",
    "# 'bgr_Wj'\n",
    "processes = ['signal', 'bgr_tt', 'bgr_st']\n",
    "\n",
    "for process in processes:\n",
    "    nn_input[process] = np.loadtxt('nn_input_' + process + '.txt', delimiter = ' ')\n",
    "    \n",
    "    # simplify data structure by transposing\n",
    "    nn_input[process] = np.transpose(nn_input[process]).tolist()"
   ]
  },
  {
   "cell_type": "markdown",
   "id": "48cc47f6-ac7e-497e-82f0-a30cb7849608",
   "metadata": {},
   "source": [
    "Not only do we want to understand if the if the event in question is part of the signal or the background, we also want to be able to differentiate the various background processes. Essentially, we are building a *multiclassifier* neural network. This means that the network, instead of returning a binary \"signal\" or \"background\" response, returns an output vector of which each element is associated with the probablility of identifying the events as stemming from the various processes. In our case we have 3 processes that have to be distinguished from one another (the background W + jets is not being considered here, since it's sample size is too small to make any meaningful training with it); an exemplary output vector of the shape (0 0 1) would indicate the ideal case of identifying an event as a single top background event.\n",
    "\n",
    "The process of constructing the neural network is shown in the following two cells and is very much reminiscient of how the exemplary neural network was set up in the third notebook. As to the structure of the network, in total 5 layers will be used where the input layer consists of 15 nodes corresponding to the various physical observables of the selected events, the output layer consists of 3 nodes corresponding to the three processes the events are meant to be classified as. The three hidden layers in between have 512 nodes. They are quite large such that they are capable of picking up on the differentiating nuances in the events. A certain number of hidden layers and their layer sizes directly affects the training duration. Thus the number of layers and layer sizes must be chosen in a way such that the training can be completed in a reasonable time frame."
   ]
  },
  {
   "cell_type": "code",
   "execution_count": 3,
   "id": "b58c7fc1-793d-445a-b7e3-dd6e7b28c30d",
   "metadata": {},
   "outputs": [
    {
     "name": "stdout",
     "output_type": "stream",
     "text": [
      "Layer structure of the network:  [15, 512, 512, 512, 3]\n"
     ]
    }
   ],
   "source": [
    "# define structure of the network\n",
    "\n",
    "# dimensions of input, hidden and output layers\n",
    "N0 = len(nn_input['signal'][0])\n",
    "N1 = 512\n",
    "N2 = len(processes)\n",
    "\n",
    "# number of hidden layers\n",
    "layer_count = 3\n",
    "\n",
    "# layer structure of the network\n",
    "layers = [N0]\n",
    "\n",
    "for l in range(layer_count):\n",
    "    layers.append(N1)\n",
    "    \n",
    "layers.append(N2)\n",
    "\n",
    "print(\"Layer structure of the network: \", layers)"
   ]
  },
  {
   "cell_type": "markdown",
   "id": "d4600db0-5285-4efe-abba-97af3f34ac62",
   "metadata": {},
   "source": [
    "The activation function of the output layer is chosen to be a *softmax* instead of the sigmoid that is being used everywhere else. That is because the softmax function in normalized in a way, such that the ouput is a number between 0 and 1 and can be read as a probability:\n",
    "\n",
    "### $(1) \\,\\,\\, \\sigma(\\vec{z})_{i} = \\frac{e^{z_{i}}}{\\sum{e^{z_{j}}}}$"
   ]
  },
  {
   "cell_type": "code",
   "execution_count": 4,
   "id": "e4e4cc96-2cff-416c-931d-93b3e807f512",
   "metadata": {},
   "outputs": [
    {
     "name": "stderr",
     "output_type": "stream",
     "text": [
      "2022-08-25 15:28:23.200385: W tensorflow/stream_executor/platform/default/dso_loader.cc:64] Could not load dynamic library 'libcuda.so.1'; dlerror: libcuda.so.1: cannot open shared object file: No such file or directory\n",
      "2022-08-25 15:28:23.200419: W tensorflow/stream_executor/cuda/cuda_driver.cc:269] failed call to cuInit: UNKNOWN ERROR (303)\n",
      "2022-08-25 15:28:23.200440: I tensorflow/stream_executor/cuda/cuda_diagnostics.cc:156] kernel driver does not appear to be running on this host (batch1373.desy.de): /proc/driver/nvidia/version does not exist\n",
      "2022-08-25 15:28:23.200722: I tensorflow/core/platform/cpu_feature_guard.cc:193] This TensorFlow binary is optimized with oneAPI Deep Neural Network Library (oneDNN) to use the following CPU instructions in performance-critical operations:  AVX2 FMA\n",
      "To enable them in other operations, rebuild TensorFlow with the appropriate compiler flags.\n"
     ]
    }
   ],
   "source": [
    "# construct the network in keras\n",
    "\n",
    "net = Sequential()\n",
    "\n",
    "# set the weights initializer\n",
    "initializer = RandomUniform(minval = -1, maxval = 1)\n",
    "\n",
    "# make the first layer with the input shape as an argument\n",
    "net.add(Dense(layers[1], input_shape = (layers[0],), activation = 'sigmoid', \n",
    "              use_bias = True, kernel_initializer = initializer))\n",
    "\n",
    "# make hidden layers\n",
    "for i in range(2, len(layers) - 1):\n",
    "    net.add(Dense(layers[i], activation = 'sigmoid', use_bias = True, kernel_initializer = initializer))\n",
    "\n",
    "# make output layer\n",
    "net.add(Dense(layers[-1], activation = 'softmax', use_bias = True, kernel_initializer = initializer))"
   ]
  },
  {
   "cell_type": "code",
   "execution_count": 5,
   "id": "0002f706-f9aa-42bd-8144-31b1e8ab8a7d",
   "metadata": {},
   "outputs": [],
   "source": [
    "# compile the network\n",
    "net.compile(loss = 'categorical_crossentropy', optimizer = keras.optimizers.SGD(learning_rate = 0.0001), metrics = ['categorical_accuracy'])"
   ]
  },
  {
   "cell_type": "markdown",
   "id": "804e20c5-525b-4ffa-a725-e6ed9df2f206",
   "metadata": {},
   "source": [
    "As the processes from which the exact training events are made are known, it is very simple to generate the target output which will be used for verification during training. As discussed above the target vectors have three elements (as many elements as processes that are meant to be differentiated) which are 0 except one of them which is 1 corresponding to the process that the event in question originated from. There are as many target vectors being made as there are input vectors and depending on the process they are of the form (1 0 0), (0 1 0) or (0 0 1). Similar to the input vectors the target vectors are stored in a dictionary for the respective processes."
   ]
  },
  {
   "cell_type": "code",
   "execution_count": 6,
   "id": "a2c60fd7-ace0-482a-ae0f-8b474f6a5308",
   "metadata": {},
   "outputs": [],
   "source": [
    "# making of the target output\n",
    "\n",
    "# target dictionary\n",
    "nn_target = {}\n",
    "\n",
    "training_duration = 0\n",
    "\n",
    "# make target data for a particular process\n",
    "def make_target(p, proc):\n",
    "    \n",
    "    vectors = []\n",
    "    \n",
    "    for i in range(len(nn_input[proc])):\n",
    "    \n",
    "        v = np.zeros(len(processes))\n",
    "        v[p] = 1\n",
    "\n",
    "        vectors.append(v)\n",
    "    \n",
    "    return vectors, len(vectors)"
   ]
  },
  {
   "cell_type": "code",
   "execution_count": 7,
   "id": "501a0c84-c243-4f16-903d-0fc97859c22c",
   "metadata": {},
   "outputs": [
    {
     "name": "stdout",
     "output_type": "stream",
     "text": [
      "[1. 0. 0.]\n"
     ]
    }
   ],
   "source": [
    "# make target data for all processes\n",
    "for count, process in enumerate(processes):\n",
    "    nn_target[process] = make_target(count, process)[0]\n",
    "    training_duration += make_target(count, process)[1]\n",
    "\n",
    "print(nn_target['signal'][10])"
   ]
  },
  {
   "cell_type": "code",
   "execution_count": 8,
   "id": "fbf5d3ae-5004-47e1-a423-c0a8c109f6b6",
   "metadata": {},
   "outputs": [],
   "source": [
    "# number of epochs\n",
    "epochs = 200\n",
    "\n",
    "# cost\n",
    "costs = np.empty(epochs)\n",
    "metrics_1 = np.empty(epochs)"
   ]
  },
  {
   "cell_type": "code",
   "execution_count": 9,
   "id": "7477f107-f92d-44f2-88be-cd6a85636dd5",
   "metadata": {},
   "outputs": [
    {
     "name": "stdout",
     "output_type": "stream",
     "text": [
      "(9000, 15)\n",
      "(9000, 3)\n",
      "(4032, 15)\n",
      "(4032, 3)\n"
     ]
    }
   ],
   "source": [
    "# put input and target data all in one array\n",
    "\n",
    "nn_input_training = []\n",
    "nn_target_training = []\n",
    "\n",
    "nn_input_validation = []\n",
    "nn_target_validation = []\n",
    "\n",
    "for process in processes:\n",
    "    nn_input_training = nn_input_training + nn_input[process][:3000]\n",
    "    nn_target_training = nn_target_training + nn_target[process][:3000]\n",
    "    \n",
    "    nn_input_validation = nn_input_validation + nn_input[process][3000:4344]\n",
    "    nn_target_validation = nn_target_validation + nn_target[process][3000:4344]\n",
    "\n",
    "nn_input_training = np.array(nn_input_training)\n",
    "nn_target_training = np.array(nn_target_training)\n",
    "\n",
    "nn_input_validation = np.array(nn_input_validation)\n",
    "nn_target_validation = np.array(nn_target_validation)\n",
    "    \n",
    "print(np.shape(nn_input_training))\n",
    "print(np.shape(nn_target_training))\n",
    "print(np.shape(nn_input_validation))\n",
    "print(np.shape(nn_target_validation))"
   ]
  },
  {
   "cell_type": "code",
   "execution_count": 10,
   "id": "094d2315-fd32-461e-b061-85a6043acfd0",
   "metadata": {},
   "outputs": [],
   "source": [
    "history = net.fit(x = nn_input_training, y = nn_target_training, epochs = epochs, \n",
    "                  validation_data = (nn_input_validation, nn_target_validation), shuffle = True, verbose = 0)"
   ]
  },
  {
   "cell_type": "code",
   "execution_count": 11,
   "id": "d1c3a931-dfea-4158-a78a-66d38f4f7b6f",
   "metadata": {},
   "outputs": [
    {
     "name": "stdout",
     "output_type": "stream",
     "text": [
      "loss\n",
      "categorical_accuracy\n",
      "val_loss\n",
      "val_categorical_accuracy\n"
     ]
    }
   ],
   "source": [
    "for i in history.history:\n",
    "    print(i)\n",
    "    \n",
    "# print(history.history['loss'])"
   ]
  },
  {
   "cell_type": "code",
   "execution_count": 12,
   "id": "1d5277ac-44e2-4b29-8bd0-3431c28afc89",
   "metadata": {
    "tags": []
   },
   "outputs": [
    {
     "name": "stdout",
     "output_type": "stream",
     "text": [
      "Lowest loss value:  1.1437690258026123\n"
     ]
    },
    {
     "data": {
      "image/png": "[encoded data removed]",
      "text/plain": [
       "<Figure size 720x504 with 1 Axes>"
      ]
     },
     "metadata": {},
     "output_type": "display_data"
    }
   ],
   "source": [
    "plt.figure(figsize = (10, 7), facecolor = 'white')\n",
    "\n",
    "plt.plot(history.history['loss'])\n",
    "plt.plot(history.history['val_loss'])\n",
    "\n",
    "plt.title('Loss function', fontsize = 17)\n",
    "plt.xlabel('Number of epochs', fontsize = 15)\n",
    "plt.ylabel('Loss', fontsize = 15)\n",
    "\n",
    "print('Lowest loss value: ', history.history['val_loss'][-1])"
   ]
  },
  {
   "cell_type": "code",
   "execution_count": 13,
   "id": "6d5ab796-533e-4558-bac4-3b14081572d9",
   "metadata": {
    "tags": []
   },
   "outputs": [
    {
     "name": "stdout",
     "output_type": "stream",
     "text": [
      "Highest accuracy value:  0.4528769850730896\n"
     ]
    },
    {
     "data": {
      "image/png": "[encoded data removed]",
      "text/plain": [
       "<Figure size 720x504 with 1 Axes>"
      ]
     },
     "metadata": {},
     "output_type": "display_data"
    }
   ],
   "source": [
    "plt.figure(figsize = (10, 7), facecolor = 'white')\n",
    "\n",
    "plt.plot(history.history['categorical_accuracy'])\n",
    "plt.plot(history.history['val_categorical_accuracy'])\n",
    "\n",
    "plt.title('Accuracy', fontsize = 17)\n",
    "plt.xlabel('Number of epochs', fontsize = 15)\n",
    "plt.ylabel('Accuracy', fontsize = 15)\n",
    "\n",
    "print('Highest accuracy value: ', history.history['val_categorical_accuracy'][-1])"
   ]
  },
  {
   "cell_type": "code",
   "execution_count": 14,
   "id": "b30d0317-7ed0-4af0-a5d3-0876885c7b8d",
   "metadata": {},
   "outputs": [
    {
     "name": "stdout",
     "output_type": "stream",
     "text": [
      "Mean classifier of signal process [0.47969282, 0.2578706, 0.2624365]\n",
      "Mean classifier of bgr_tt process [0.23562263, 0.405964, 0.3584134]\n",
      "Mean classifier of bgr_st process [0.26003596, 0.3755943, 0.36436975]\n"
     ]
    }
   ],
   "source": [
    "predictions = {}\n",
    "\n",
    "for process in processes:\n",
    "    predictions[process] = net.predict_on_batch(np.array(nn_input[process][3000:4344]))\n",
    "    \n",
    "    mean_classifier = []\n",
    "    \n",
    "    for i in range(3):\n",
    "        mean_classifier.append(np.mean(predictions[process][:, i]))\n",
    "        \n",
    "    print('Mean classifier of ' + process + ' process', mean_classifier)\n",
    "        \n",
    "prediction_comb = net.predict_on_batch(nn_input_validation)\n",
    "\n",
    "# print(prediction_comb[234][:-1])\n",
    "# print(nn_target_validation[:2688, :-1])\n",
    "# print(np.shape(nn_target_validation[:2688, :-1]))\n",
    "# probe = net.predict_on_batch(np.array([nn_input['signal'][100]]))"
   ]
  },
  {
   "cell_type": "markdown",
   "id": "cd874b23-e2f9-4f37-94f3-b6dfd6ffa55e",
   "metadata": {},
   "source": [
    "## ROC curve and AUC"
   ]
  },
  {
   "cell_type": "code",
   "execution_count": 15,
   "id": "f4047076-2d7b-4537-9683-b547f8d482f5",
   "metadata": {},
   "outputs": [
    {
     "data": {
      "text/plain": [
       "Text(0, 0.5, 'True positive rate')"
      ]
     },
     "execution_count": 15,
     "metadata": {},
     "output_type": "execute_result"
    },
    {
     "data": {
      "image/png": "[encoded data removed]",
      "text/plain": [
       "<Figure size 504x504 with 1 Axes>"
      ]
     },
     "metadata": {},
     "output_type": "display_data"
    }
   ],
   "source": [
    "# turn multicategorical classifier into a binary classifier (for signal vs bgr_tt first)\n",
    "\n",
    "fpr, tpr, thresholds = roc_curve(nn_target_validation[:, 0], prediction_comb[:, 0])\n",
    "\n",
    "plt.figure(figsize = (7, 7), facecolor = 'white')\n",
    "\n",
    "plt.plot(fpr, tpr)\n",
    "\n",
    "plt.title('ROC OvR', fontsize = 17)\n",
    "plt.xlabel('False positive rate', fontsize = 15)\n",
    "plt.ylabel('True positive rate', fontsize = 15)"
   ]
  },
  {
   "cell_type": "code",
   "execution_count": 16,
   "id": "f3b1ba81-28a4-427b-b8f2-831e17a30859",
   "metadata": {},
   "outputs": [
    {
     "name": "stdout",
     "output_type": "stream",
     "text": [
      "0.6439266651756189\n"
     ]
    }
   ],
   "source": [
    "# auc\n",
    "\n",
    "auc_score = roc_auc_score(nn_target_validation, prediction_comb, average = 'macro', multi_class = 'ovo')\n",
    "\n",
    "print(auc_score)"
   ]
  },
  {
   "cell_type": "code",
   "execution_count": 51,
   "id": "75de8083-8599-4d4e-9f53-908bbf99cd01",
   "metadata": {},
   "outputs": [
    {
     "name": "stdout",
     "output_type": "stream",
     "text": [
      "[[0.58482143 0.20833333 0.20684524]\n",
      " [0.23139881 0.42113095 0.34747024]\n",
      " [0.27529762 0.37202381 0.35267857]]\n",
      "\n"
     ]
    },
    {
     "data": {
      "image/png": "[encoded data removed]",
      "text/plain": [
       "<Figure size 432x288 with 2 Axes>"
      ]
     },
     "metadata": {
      "needs_background": "light"
     },
     "output_type": "display_data"
    }
   ],
   "source": [
    "# confusion matrix\n",
    "\n",
    "# make class arrays for confusion matrix\n",
    "confused_targets = []\n",
    "confused_predictions = []\n",
    "\n",
    "for count, v in enumerate(nn_target_validation):\n",
    "    \n",
    "    for j, i in enumerate(prediction_comb[count]):\n",
    "        \n",
    "        if i == max(prediction_comb[count]):\n",
    "            confused_predictions.append(j)\n",
    "    \n",
    "    if list(v) == [1, 0, 0]:\n",
    "        confused_targets.append(0)\n",
    "    elif list(v) == [0, 1, 0]:\n",
    "        confused_targets.append(1)\n",
    "    else:\n",
    "        confused_targets.append(2)\n",
    "\n",
    "confusion = confusion_matrix(confused_targets, confused_predictions, normalize = 'true')\n",
    "\n",
    "print(confusion)\n",
    "print('')\n",
    "\n",
    "ConfusionMatrixDisplay.from_predictions(confused_targets, confused_predictions, normalize = 'true')\n",
    "\n",
    "plt.show()"
   ]
  },
  {
   "cell_type": "markdown",
   "id": "553e49a4-ca8d-406a-bf00-756991fcab4f",
   "metadata": {},
   "source": [
    "# BACKUP CELLS"
   ]
  },
  {
   "cell_type": "code",
   "execution_count": null,
   "id": "4fa20977-77da-4f99-a0fe-e4af5b2855e2",
   "metadata": {},
   "outputs": [],
   "source": [
    "# permutate for training\n",
    "\n",
    "# p = np.random.permutation(len(nn_input_training))\n",
    "\n",
    "# nn_input_training = nn_input_training[p]\n",
    "# nn_target_training = nn_target_training[p]"
   ]
  },
  {
   "cell_type": "code",
   "execution_count": null,
   "id": "4c9e3b1e-5576-490c-a3c7-5cd37b5a32c7",
   "metadata": {},
   "outputs": [],
   "source": [
    "# train network\n",
    "\n",
    "# for i in range(epochs):\n",
    "#     costs[i] = net.train_on_batch(nn_input_training, nn_target_training)[0]\n",
    "#     metrics_1[i] = net.train_on_batch(nn_input_training, nn_target_training)[1]"
   ]
  }
 ],
 "metadata": {
  "kernelspec": {
   "display_name": "cms-analysis",
   "language": "python",
   "name": "cms-analysis"
  },
  "language_info": {
   "codemirror_mode": {
    "name": "ipython",
    "version": 3
   },
   "file_extension": ".py",
   "mimetype": "text/x-python",
   "name": "python",
   "nbconvert_exporter": "python",
   "pygments_lexer": "ipython3",
   "version": "3.10.4"
  }
 },
 "nbformat": 4,
 "nbformat_minor": 5
}
