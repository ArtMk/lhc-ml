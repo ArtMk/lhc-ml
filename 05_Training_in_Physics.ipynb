{
 "cells": [
  {
   "cell_type": "markdown",
   "id": "925ec8dc-bc27-46e1-8498-3803fe3d238a",
   "metadata": {},
   "source": [
    "# 5. Training in Physics"
   ]
  },
  {
   "cell_type": "markdown",
   "id": "15d5b8ea-4e6a-4bc7-8f01-7dbb76158aa1",
   "metadata": {},
   "source": [
    "In the last notebook events from the Di-Higgs signal process and some of its background processes were selected which fulfilled a desired signiture consisting of lepton and jet counts and requirements on some physical observables. The selected data was then converted into a vector form which can be used as input by a neural network and saved into files.\n",
    "\n",
    "In this notebook a neural network will be constructed which is capable of taking the selected data from the last notebook as input and target values for the training will be constructed."
   ]
  },
  {
   "cell_type": "code",
   "execution_count": 1,
   "id": "81b9272d-6e01-456b-957d-a49ebd6d7b72",
   "metadata": {},
   "outputs": [
    {
     "name": "stderr",
     "output_type": "stream",
     "text": [
      "2022-08-23 16:44:26.924685: W tensorflow/stream_executor/platform/default/dso_loader.cc:64] Could not load dynamic library 'libcudart.so.11.0'; dlerror: libcudart.so.11.0: cannot open shared object file: No such file or directory\n",
      "2022-08-23 16:44:26.924740: I tensorflow/stream_executor/cuda/cudart_stub.cc:29] Ignore above cudart dlerror if you do not have a GPU set up on your machine.\n"
     ]
    }
   ],
   "source": [
    "import numpy as np\n",
    "import matplotlib.pyplot as plt\n",
    "import mplhep\n",
    "import os\n",
    "\n",
    "from tensorflow import keras\n",
    "from keras.models import Sequential\n",
    "from keras.layers import Dense\n",
    "from keras.initializers import RandomUniform"
   ]
  },
  {
   "cell_type": "code",
   "execution_count": 2,
   "id": "2b80bfff-fcd2-426c-bf95-bc0cf5730673",
   "metadata": {},
   "outputs": [],
   "source": [
    "# open the neural network input vectors\n",
    "\n",
    "nn_input = {}\n",
    "\n",
    "# 'bgr_Wj'\n",
    "processes = ['signal', 'bgr_tt', 'bgr_st']\n",
    "\n",
    "for process in processes:\n",
    "    nn_input[process] = np.loadtxt('nn_input_' + process + '.txt', delimiter = ' ')\n",
    "    \n",
    "    # simplify data structure by transposing\n",
    "    nn_input[process] = np.transpose(nn_input[process]).tolist()"
   ]
  },
  {
   "cell_type": "markdown",
   "id": "48cc47f6-ac7e-497e-82f0-a30cb7849608",
   "metadata": {},
   "source": [
    "Not only do we want to understand if the if the event in question is part of the signal or the background, we also want to be able to differentiate the various background processes. Essentially, we are building a *multiclassifier* neural network. This means that the network, instead of returning a binary \"signal\" or \"background\" response, returns an output vector of which each element is associated with the probablility of identifying the events as stemming from the various processes. In our case we have 4 processes that have to be distinguished from one another; an exemplary output vector of the shape (0 0 1 0) would indicate the ideal case of identifying an event as a single top background event."
   ]
  },
  {
   "cell_type": "code",
   "execution_count": 3,
   "id": "b58c7fc1-793d-445a-b7e3-dd6e7b28c30d",
   "metadata": {},
   "outputs": [
    {
     "name": "stdout",
     "output_type": "stream",
     "text": [
      "Layer structure of the network:  [15, 256, 256, 256, 3]\n"
     ]
    }
   ],
   "source": [
    "# define structure of the network\n",
    "\n",
    "# dimensions of input, hidden and output layers\n",
    "N0 = len(nn_input['signal'][0])\n",
    "N1 = 256\n",
    "N2 = len(processes)\n",
    "\n",
    "# number of hidden layers\n",
    "layer_count = 3\n",
    "\n",
    "# layer structure of the network\n",
    "layers = [N0]\n",
    "\n",
    "for l in range(layer_count):\n",
    "    layers.append(N1)\n",
    "    \n",
    "layers.append(N2)\n",
    "\n",
    "print(\"Layer structure of the network: \", layers)"
   ]
  },
  {
   "cell_type": "code",
   "execution_count": 4,
   "id": "e4e4cc96-2cff-416c-931d-93b3e807f512",
   "metadata": {},
   "outputs": [
    {
     "name": "stderr",
     "output_type": "stream",
     "text": [
      "2022-08-23 16:44:30.379206: W tensorflow/stream_executor/platform/default/dso_loader.cc:64] Could not load dynamic library 'libcuda.so.1'; dlerror: libcuda.so.1: cannot open shared object file: No such file or directory\n",
      "2022-08-23 16:44:30.379242: W tensorflow/stream_executor/cuda/cuda_driver.cc:269] failed call to cuInit: UNKNOWN ERROR (303)\n",
      "2022-08-23 16:44:30.379274: I tensorflow/stream_executor/cuda/cuda_diagnostics.cc:156] kernel driver does not appear to be running on this host (batch1359.desy.de): /proc/driver/nvidia/version does not exist\n",
      "2022-08-23 16:44:30.379508: I tensorflow/core/platform/cpu_feature_guard.cc:193] This TensorFlow binary is optimized with oneAPI Deep Neural Network Library (oneDNN) to use the following CPU instructions in performance-critical operations:  AVX2 FMA\n",
      "To enable them in other operations, rebuild TensorFlow with the appropriate compiler flags.\n"
     ]
    }
   ],
   "source": [
    "# construct the network in keras\n",
    "\n",
    "net = Sequential()\n",
    "\n",
    "# set the weights initializer\n",
    "initializer = RandomUniform(minval=-1, maxval=1)\n",
    "\n",
    "# make the first layer with the input shape as an argument\n",
    "net.add(Dense(layers[1], input_shape = (layers[0],), activation = 'sigmoid', \n",
    "              use_bias = True, kernel_initializer = initializer))\n",
    "\n",
    "# make all the other layers\n",
    "for i in range(2, len(layers) - 1):\n",
    "    net.add(Dense(layers[i], activation = 'sigmoid', use_bias = True, kernel_initializer = initializer))\n",
    "    \n",
    "net.add(Dense(layers[-1], activation = 'softmax', use_bias = True, kernel_initializer = initializer))"
   ]
  },
  {
   "cell_type": "code",
   "execution_count": 5,
   "id": "0002f706-f9aa-42bd-8144-31b1e8ab8a7d",
   "metadata": {},
   "outputs": [],
   "source": [
    "# compile the network\n",
    "\n",
    "# net.compile(loss = 'CategoricalCrossentropy', optimizer = keras.optimizers.SGD(learning_rate = 0.5), metrics = ['accuracy'])\n",
    "net.compile(loss = 'categorical_crossentropy', optimizer = keras.optimizers.SGD(learning_rate = 0.025), metrics = ['categorical_accuracy'])"
   ]
  },
  {
   "cell_type": "code",
   "execution_count": 6,
   "id": "a2c60fd7-ace0-482a-ae0f-8b474f6a5308",
   "metadata": {},
   "outputs": [],
   "source": [
    "# making of the target output\n",
    "\n",
    "# target dictionary\n",
    "nn_target = {}\n",
    "\n",
    "training_duration = 0\n",
    "\n",
    "# make target data for a particular process\n",
    "def make_target(p, proc):\n",
    "    \n",
    "    vectors = []\n",
    "    \n",
    "    for i in range(len(nn_input[proc])):\n",
    "    \n",
    "        v = np.zeros(len(processes))\n",
    "        v[p] = 1\n",
    "\n",
    "        vectors.append(v)\n",
    "    \n",
    "    return vectors, len(vectors)"
   ]
  },
  {
   "cell_type": "code",
   "execution_count": 7,
   "id": "501a0c84-c243-4f16-903d-0fc97859c22c",
   "metadata": {},
   "outputs": [
    {
     "name": "stdout",
     "output_type": "stream",
     "text": [
      "[1. 0. 0.]\n"
     ]
    }
   ],
   "source": [
    "# make target data for all processes\n",
    "for count, process in enumerate(processes):\n",
    "    nn_target[process] = make_target(count, process)[0]\n",
    "    training_duration += make_target(count, process)[1]\n",
    "\n",
    "print(nn_target['signal'][10])"
   ]
  },
  {
   "cell_type": "code",
   "execution_count": 8,
   "id": "fbf5d3ae-5004-47e1-a423-c0a8c109f6b6",
   "metadata": {},
   "outputs": [
    {
     "name": "stdout",
     "output_type": "stream",
     "text": [
      "<class 'list'>\n",
      "<class 'list'>\n"
     ]
    }
   ],
   "source": [
    "# number of batches\n",
    "batches = 2000\n",
    "\n",
    "# cost\n",
    "costs = np.empty(batches)\n",
    "metrics_1 = np.empty(batches)\n",
    "metrics_2 = np.empty(batches)\n",
    "metrics_3 = np.empty(batches)\n",
    "\n",
    "print(type(nn_input['signal']))\n",
    "print(type(nn_target['signal']))"
   ]
  },
  {
   "cell_type": "code",
   "execution_count": 9,
   "id": "7477f107-f92d-44f2-88be-cd6a85636dd5",
   "metadata": {},
   "outputs": [
    {
     "name": "stdout",
     "output_type": "stream",
     "text": [
      "(9000, 15)\n",
      "(9000, 3)\n"
     ]
    }
   ],
   "source": [
    "# put input and target data all in one array\n",
    "\n",
    "nn_input_training = []\n",
    "nn_target_training = []\n",
    "\n",
    "for process in processes:\n",
    "    nn_input_training = nn_input_training + nn_input[process][:3000]\n",
    "    nn_target_training = nn_target_training + nn_target[process][:3000]\n",
    "\n",
    "nn_input_training = np.array(nn_input_training)\n",
    "nn_target_training = np.array(nn_target_training)\n",
    "    \n",
    "print(np.shape(nn_input_training))\n",
    "print(np.shape(nn_target_training))"
   ]
  },
  {
   "cell_type": "code",
   "execution_count": 10,
   "id": "4fa20977-77da-4f99-a0fe-e4af5b2855e2",
   "metadata": {},
   "outputs": [],
   "source": [
    "# permutate for training\n",
    "\n",
    "p = np.random.permutation(len(nn_input_training))\n",
    "\n",
    "nn_input_training = nn_input_training[p]\n",
    "nn_target_training = nn_target_training[p]"
   ]
  },
  {
   "cell_type": "code",
   "execution_count": 11,
   "id": "4c9e3b1e-5576-490c-a3c7-5cd37b5a32c7",
   "metadata": {},
   "outputs": [],
   "source": [
    "# train network\n",
    "\n",
    "for i in range(batches):\n",
    "    costs[i] = net.train_on_batch(nn_input_training, nn_target_training)[0]\n",
    "    metrics_1[i] = net.train_on_batch(nn_input_training, nn_target_training)[1]"
   ]
  },
  {
   "cell_type": "code",
   "execution_count": 12,
   "id": "1d5277ac-44e2-4b29-8bd0-3431c28afc89",
   "metadata": {},
   "outputs": [
    {
     "name": "stdout",
     "output_type": "stream",
     "text": [
      "Lowest cost value:  0.9041823744773865\n"
     ]
    },
    {
     "data": {
      "image/png": "[encoded data removed]",
      "text/plain": [
       "<Figure size 720x504 with 1 Axes>"
      ]
     },
     "metadata": {},
     "output_type": "display_data"
    }
   ],
   "source": [
    "plt.figure(figsize = (10, 7), facecolor = 'white')\n",
    "\n",
    "plt.plot(costs)\n",
    "\n",
    "plt.title('Training cost function', fontsize = 17)\n",
    "plt.xlabel('Number of epochs', fontsize = 15)\n",
    "plt.ylabel('Cost', fontsize = 15)\n",
    "\n",
    "print('Lowest cost value: ', costs[-1])"
   ]
  },
  {
   "cell_type": "code",
   "execution_count": 13,
   "id": "6d5ab796-533e-4558-bac4-3b14081572d9",
   "metadata": {},
   "outputs": [
    {
     "name": "stdout",
     "output_type": "stream",
     "text": [
      "Highest accuracy value:  0.5554444193840027\n"
     ]
    },
    {
     "data": {
      "image/png": "[encoded data removed]",
      "text/plain": [
       "<Figure size 720x504 with 1 Axes>"
      ]
     },
     "metadata": {},
     "output_type": "display_data"
    }
   ],
   "source": [
    "plt.figure(figsize = (10, 7), facecolor = 'white')\n",
    "\n",
    "plt.plot(metrics_1)\n",
    "\n",
    "plt.title('Training accuracy?', fontsize = 17)\n",
    "plt.xlabel('Number of epochs', fontsize = 15)\n",
    "plt.ylabel('Accuracy?', fontsize = 15)\n",
    "\n",
    "print('Highest accuracy value: ', metrics_1[-1])"
   ]
  },
  {
   "cell_type": "code",
   "execution_count": 14,
   "id": "b30d0317-7ed0-4af0-a5d3-0876885c7b8d",
   "metadata": {},
   "outputs": [
    {
     "name": "stdout",
     "output_type": "stream",
     "text": [
      "Mean classifier of signal process [0.47745377, 0.25314045, 0.26940572]\n",
      "Mean classifier of bgr_tt process [0.24250844, 0.3909517, 0.3665399]\n",
      "Mean classifier of bgr_st process [0.2597078, 0.36187038, 0.37842178]\n"
     ]
    }
   ],
   "source": [
    "predictions = {}\n",
    "\n",
    "for process in processes:\n",
    "    predictions[process] = net.predict_on_batch(np.array(nn_input[process][3000:4344]))\n",
    "    \n",
    "    mean_classifier = []\n",
    "    \n",
    "    for i in range(3):\n",
    "        mean_classifier.append(np.mean(predictions[process][:, i]))\n",
    "        \n",
    "    print('Mean classifier of ' + process + ' process', mean_classifier)\n",
    "        \n",
    "\n",
    "# probe = net.predict_on_batch(np.array([nn_input['signal'][100]]))"
   ]
  },
  {
   "cell_type": "code",
   "execution_count": null,
   "id": "8fd0c9a4-8fa6-41bc-a151-73acfa19bc13",
   "metadata": {},
   "outputs": [],
   "source": []
  }
 ],
 "metadata": {
  "kernelspec": {
   "display_name": "cms-analysis",
   "language": "python",
   "name": "cms-analysis"
  },
  "language_info": {
   "codemirror_mode": {
    "name": "ipython",
    "version": 3
   },
   "file_extension": ".py",
   "mimetype": "text/x-python",
   "name": "python",
   "nbconvert_exporter": "python",
   "pygments_lexer": "ipython3",
   "version": "3.10.4"
  }
 },
 "nbformat": 4,
 "nbformat_minor": 5
}
